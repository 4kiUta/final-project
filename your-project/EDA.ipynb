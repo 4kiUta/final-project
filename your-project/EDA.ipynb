{
 "cells": [
  {
   "cell_type": "markdown",
   "metadata": {},
   "source": [
    "# Data Cleaning"
   ]
  },
  {
   "cell_type": "code",
   "execution_count": 669,
   "metadata": {},
   "outputs": [],
   "source": [
    "import re\n",
    "import pandas as pd\n",
    "import matplotlib\n",
    "import matplotlib.pyplot as plt"
   ]
  },
  {
   "cell_type": "code",
   "execution_count": 670,
   "metadata": {},
   "outputs": [],
   "source": [
    "dt = pd.read_csv('shelter-animal-outcomes/train.csv')"
   ]
  },
  {
   "cell_type": "code",
   "execution_count": 671,
   "metadata": {},
   "outputs": [
    {
     "data": {
      "text/html": [
       "<div>\n",
       "<style scoped>\n",
       "    .dataframe tbody tr th:only-of-type {\n",
       "        vertical-align: middle;\n",
       "    }\n",
       "\n",
       "    .dataframe tbody tr th {\n",
       "        vertical-align: top;\n",
       "    }\n",
       "\n",
       "    .dataframe thead th {\n",
       "        text-align: right;\n",
       "    }\n",
       "</style>\n",
       "<table border=\"1\" class=\"dataframe\">\n",
       "  <thead>\n",
       "    <tr style=\"text-align: right;\">\n",
       "      <th></th>\n",
       "      <th>AnimalID</th>\n",
       "      <th>Name</th>\n",
       "      <th>DateTime</th>\n",
       "      <th>OutcomeType</th>\n",
       "      <th>OutcomeSubtype</th>\n",
       "      <th>AnimalType</th>\n",
       "      <th>SexuponOutcome</th>\n",
       "      <th>AgeuponOutcome</th>\n",
       "      <th>Breed</th>\n",
       "      <th>Color</th>\n",
       "    </tr>\n",
       "  </thead>\n",
       "  <tbody>\n",
       "    <tr>\n",
       "      <td>0</td>\n",
       "      <td>A671945</td>\n",
       "      <td>Hambone</td>\n",
       "      <td>2014-02-12 18:22:00</td>\n",
       "      <td>Return_to_owner</td>\n",
       "      <td>NaN</td>\n",
       "      <td>Dog</td>\n",
       "      <td>Neutered Male</td>\n",
       "      <td>1 year</td>\n",
       "      <td>Shetland Sheepdog Mix</td>\n",
       "      <td>Brown/White</td>\n",
       "    </tr>\n",
       "    <tr>\n",
       "      <td>1</td>\n",
       "      <td>A656520</td>\n",
       "      <td>Emily</td>\n",
       "      <td>2013-10-13 12:44:00</td>\n",
       "      <td>Euthanasia</td>\n",
       "      <td>Suffering</td>\n",
       "      <td>Cat</td>\n",
       "      <td>Spayed Female</td>\n",
       "      <td>1 year</td>\n",
       "      <td>Domestic Shorthair Mix</td>\n",
       "      <td>Cream Tabby</td>\n",
       "    </tr>\n",
       "    <tr>\n",
       "      <td>2</td>\n",
       "      <td>A686464</td>\n",
       "      <td>Pearce</td>\n",
       "      <td>2015-01-31 12:28:00</td>\n",
       "      <td>Adoption</td>\n",
       "      <td>Foster</td>\n",
       "      <td>Dog</td>\n",
       "      <td>Neutered Male</td>\n",
       "      <td>2 years</td>\n",
       "      <td>Pit Bull Mix</td>\n",
       "      <td>Blue/White</td>\n",
       "    </tr>\n",
       "    <tr>\n",
       "      <td>3</td>\n",
       "      <td>A683430</td>\n",
       "      <td>NaN</td>\n",
       "      <td>2014-07-11 19:09:00</td>\n",
       "      <td>Transfer</td>\n",
       "      <td>Partner</td>\n",
       "      <td>Cat</td>\n",
       "      <td>Intact Male</td>\n",
       "      <td>3 weeks</td>\n",
       "      <td>Domestic Shorthair Mix</td>\n",
       "      <td>Blue Cream</td>\n",
       "    </tr>\n",
       "    <tr>\n",
       "      <td>4</td>\n",
       "      <td>A667013</td>\n",
       "      <td>NaN</td>\n",
       "      <td>2013-11-15 12:52:00</td>\n",
       "      <td>Transfer</td>\n",
       "      <td>Partner</td>\n",
       "      <td>Dog</td>\n",
       "      <td>Neutered Male</td>\n",
       "      <td>2 years</td>\n",
       "      <td>Lhasa Apso/Miniature Poodle</td>\n",
       "      <td>Tan</td>\n",
       "    </tr>\n",
       "  </tbody>\n",
       "</table>\n",
       "</div>"
      ],
      "text/plain": [
       "  AnimalID     Name             DateTime      OutcomeType OutcomeSubtype  \\\n",
       "0  A671945  Hambone  2014-02-12 18:22:00  Return_to_owner            NaN   \n",
       "1  A656520    Emily  2013-10-13 12:44:00       Euthanasia      Suffering   \n",
       "2  A686464   Pearce  2015-01-31 12:28:00         Adoption         Foster   \n",
       "3  A683430      NaN  2014-07-11 19:09:00         Transfer        Partner   \n",
       "4  A667013      NaN  2013-11-15 12:52:00         Transfer        Partner   \n",
       "\n",
       "  AnimalType SexuponOutcome AgeuponOutcome                        Breed  \\\n",
       "0        Dog  Neutered Male         1 year        Shetland Sheepdog Mix   \n",
       "1        Cat  Spayed Female         1 year       Domestic Shorthair Mix   \n",
       "2        Dog  Neutered Male        2 years                 Pit Bull Mix   \n",
       "3        Cat    Intact Male        3 weeks       Domestic Shorthair Mix   \n",
       "4        Dog  Neutered Male        2 years  Lhasa Apso/Miniature Poodle   \n",
       "\n",
       "         Color  \n",
       "0  Brown/White  \n",
       "1  Cream Tabby  \n",
       "2   Blue/White  \n",
       "3   Blue Cream  \n",
       "4          Tan  "
      ]
     },
     "execution_count": 671,
     "metadata": {},
     "output_type": "execute_result"
    }
   ],
   "source": [
    "dt.head()"
   ]
  },
  {
   "cell_type": "code",
   "execution_count": 672,
   "metadata": {},
   "outputs": [
    {
     "data": {
      "text/plain": [
       "(26729, 10)"
      ]
     },
     "execution_count": 672,
     "metadata": {},
     "output_type": "execute_result"
    }
   ],
   "source": [
    "dt.shape"
   ]
  },
  {
   "cell_type": "code",
   "execution_count": 673,
   "metadata": {},
   "outputs": [
    {
     "data": {
      "text/plain": [
       "Index(['AnimalID', 'Name', 'DateTime', 'OutcomeType', 'OutcomeSubtype',\n",
       "       'AnimalType', 'SexuponOutcome', 'AgeuponOutcome', 'Breed', 'Color'],\n",
       "      dtype='object')"
      ]
     },
     "execution_count": 673,
     "metadata": {},
     "output_type": "execute_result"
    }
   ],
   "source": [
    "dt.columns"
   ]
  },
  {
   "cell_type": "code",
   "execution_count": 674,
   "metadata": {},
   "outputs": [],
   "source": [
    "## General viwe over data"
   ]
  },
  {
   "cell_type": "code",
   "execution_count": 675,
   "metadata": {},
   "outputs": [
    {
     "data": {
      "text/plain": [
       "AnimalID              0\n",
       "Name               7691\n",
       "DateTime              0\n",
       "OutcomeType           0\n",
       "OutcomeSubtype    13612\n",
       "AnimalType            0\n",
       "SexuponOutcome        1\n",
       "AgeuponOutcome       18\n",
       "Breed                 0\n",
       "Color                 0\n",
       "dtype: int64"
      ]
     },
     "execution_count": 675,
     "metadata": {},
     "output_type": "execute_result"
    }
   ],
   "source": [
    "dt.isna().sum()"
   ]
  },
  {
   "cell_type": "markdown",
   "metadata": {},
   "source": [
    "Explore columns"
   ]
  },
  {
   "cell_type": "code",
   "execution_count": 676,
   "metadata": {},
   "outputs": [
    {
     "data": {
      "text/plain": [
       "'\\nOutcome Type is the column we want to predict based on the other features\\n'"
      ]
     },
     "execution_count": 676,
     "metadata": {},
     "output_type": "execute_result"
    }
   ],
   "source": [
    "\"\"\"\n",
    "Outcome Type is the column we want to predict based on the other features\n",
    "\"\"\""
   ]
  },
  {
   "cell_type": "code",
   "execution_count": 677,
   "metadata": {},
   "outputs": [
    {
     "data": {
      "text/plain": [
       "\"\\nAs an overview the columns/ features that might have impact on the outcome and the ones I'm going to focus are:\\nAnimal Type, Breed and Color, SexUponOutcome, AgeUponOutcome\\n\""
      ]
     },
     "execution_count": 677,
     "metadata": {},
     "output_type": "execute_result"
    }
   ],
   "source": [
    "\"\"\"\n",
    "As an overview the columns/ features that might have impact on the outcome and the ones I'm going to focus are:\n",
    "Animal Type, Breed and Color, SexUponOutcome, AgeUponOutcome\n",
    "\"\"\""
   ]
  },
  {
   "cell_type": "markdown",
   "metadata": {},
   "source": [
    "# OUTCOME -- what is going to be predicted -- Supervised Learning"
   ]
  },
  {
   "cell_type": "code",
   "execution_count": 678,
   "metadata": {
    "scrolled": true
   },
   "outputs": [
    {
     "data": {
      "text/plain": [
       "0"
      ]
     },
     "execution_count": 678,
     "metadata": {},
     "output_type": "execute_result"
    }
   ],
   "source": [
    "\n",
    "dt['OutcomeType'].isna().sum()"
   ]
  },
  {
   "cell_type": "code",
   "execution_count": 679,
   "metadata": {},
   "outputs": [
    {
     "data": {
      "text/plain": [
       "Adoption           10769\n",
       "Transfer            9422\n",
       "Return_to_owner     4786\n",
       "Euthanasia          1555\n",
       "Died                 197\n",
       "Name: OutcomeType, dtype: int64"
      ]
     },
     "execution_count": 679,
     "metadata": {},
     "output_type": "execute_result"
    }
   ],
   "source": [
    "dt['OutcomeType'].value_counts()"
   ]
  },
  {
   "cell_type": "code",
   "execution_count": 680,
   "metadata": {},
   "outputs": [
    {
     "data": {
      "text/plain": [
       "(array([10769.,     0.,   197.,     0.,     0.,  1555.,     0.,  4786.,\n",
       "            0.,  9422.]),\n",
       " array([0. , 0.4, 0.8, 1.2, 1.6, 2. , 2.4, 2.8, 3.2, 3.6, 4. ]),\n",
       " <a list of 10 Patch objects>)"
      ]
     },
     "execution_count": 680,
     "metadata": {},
     "output_type": "execute_result"
    },
    {
     "data": {
      "image/png": "[encoded data removed]",
      "text/plain": [
       "<Figure size 1440x720 with 2 Axes>"
      ]
     },
     "metadata": {
      "needs_background": "light"
     },
     "output_type": "display_data"
    }
   ],
   "source": [
    "## Ploting Outcome\n",
    "\n",
    "fig, axs = plt.subplots(1, 2, figsize=(20, 10))\n",
    "\n",
    "axs[0].bar(dt['OutcomeType'].value_counts().keys(), dt['OutcomeType'].value_counts() , color = 'pink')\n",
    "axs[0].set_xlabel('Outcome')\n",
    "axs[0].set_ylabel('Frequency')\n",
    "axs[1].hist(dt['OutcomeType'].sort_values())\n",
    "\n",
    "\n"
   ]
  },
  {
   "cell_type": "markdown",
   "metadata": {},
   "source": [
    "# Animal ID Will become the index"
   ]
  },
  {
   "cell_type": "code",
   "execution_count": 681,
   "metadata": {
    "scrolled": true
   },
   "outputs": [],
   "source": [
    "#Make animal id the index \n",
    "\n",
    "dt.set_index('AnimalID', inplace = True)"
   ]
  },
  {
   "cell_type": "code",
   "execution_count": 682,
   "metadata": {},
   "outputs": [
    {
     "data": {
      "text/html": [
       "<div>\n",
       "<style scoped>\n",
       "    .dataframe tbody tr th:only-of-type {\n",
       "        vertical-align: middle;\n",
       "    }\n",
       "\n",
       "    .dataframe tbody tr th {\n",
       "        vertical-align: top;\n",
       "    }\n",
       "\n",
       "    .dataframe thead th {\n",
       "        text-align: right;\n",
       "    }\n",
       "</style>\n",
       "<table border=\"1\" class=\"dataframe\">\n",
       "  <thead>\n",
       "    <tr style=\"text-align: right;\">\n",
       "      <th></th>\n",
       "      <th>Name</th>\n",
       "      <th>DateTime</th>\n",
       "      <th>OutcomeType</th>\n",
       "      <th>OutcomeSubtype</th>\n",
       "      <th>AnimalType</th>\n",
       "      <th>SexuponOutcome</th>\n",
       "      <th>AgeuponOutcome</th>\n",
       "      <th>Breed</th>\n",
       "      <th>Color</th>\n",
       "    </tr>\n",
       "    <tr>\n",
       "      <th>AnimalID</th>\n",
       "      <th></th>\n",
       "      <th></th>\n",
       "      <th></th>\n",
       "      <th></th>\n",
       "      <th></th>\n",
       "      <th></th>\n",
       "      <th></th>\n",
       "      <th></th>\n",
       "      <th></th>\n",
       "    </tr>\n",
       "  </thead>\n",
       "  <tbody>\n",
       "    <tr>\n",
       "      <td>A671945</td>\n",
       "      <td>Hambone</td>\n",
       "      <td>2014-02-12 18:22:00</td>\n",
       "      <td>Return_to_owner</td>\n",
       "      <td>NaN</td>\n",
       "      <td>Dog</td>\n",
       "      <td>Neutered Male</td>\n",
       "      <td>1 year</td>\n",
       "      <td>Shetland Sheepdog Mix</td>\n",
       "      <td>Brown/White</td>\n",
       "    </tr>\n",
       "    <tr>\n",
       "      <td>A656520</td>\n",
       "      <td>Emily</td>\n",
       "      <td>2013-10-13 12:44:00</td>\n",
       "      <td>Euthanasia</td>\n",
       "      <td>Suffering</td>\n",
       "      <td>Cat</td>\n",
       "      <td>Spayed Female</td>\n",
       "      <td>1 year</td>\n",
       "      <td>Domestic Shorthair Mix</td>\n",
       "      <td>Cream Tabby</td>\n",
       "    </tr>\n",
       "    <tr>\n",
       "      <td>A686464</td>\n",
       "      <td>Pearce</td>\n",
       "      <td>2015-01-31 12:28:00</td>\n",
       "      <td>Adoption</td>\n",
       "      <td>Foster</td>\n",
       "      <td>Dog</td>\n",
       "      <td>Neutered Male</td>\n",
       "      <td>2 years</td>\n",
       "      <td>Pit Bull Mix</td>\n",
       "      <td>Blue/White</td>\n",
       "    </tr>\n",
       "    <tr>\n",
       "      <td>A683430</td>\n",
       "      <td>NaN</td>\n",
       "      <td>2014-07-11 19:09:00</td>\n",
       "      <td>Transfer</td>\n",
       "      <td>Partner</td>\n",
       "      <td>Cat</td>\n",
       "      <td>Intact Male</td>\n",
       "      <td>3 weeks</td>\n",
       "      <td>Domestic Shorthair Mix</td>\n",
       "      <td>Blue Cream</td>\n",
       "    </tr>\n",
       "    <tr>\n",
       "      <td>A667013</td>\n",
       "      <td>NaN</td>\n",
       "      <td>2013-11-15 12:52:00</td>\n",
       "      <td>Transfer</td>\n",
       "      <td>Partner</td>\n",
       "      <td>Dog</td>\n",
       "      <td>Neutered Male</td>\n",
       "      <td>2 years</td>\n",
       "      <td>Lhasa Apso/Miniature Poodle</td>\n",
       "      <td>Tan</td>\n",
       "    </tr>\n",
       "    <tr>\n",
       "      <td>...</td>\n",
       "      <td>...</td>\n",
       "      <td>...</td>\n",
       "      <td>...</td>\n",
       "      <td>...</td>\n",
       "      <td>...</td>\n",
       "      <td>...</td>\n",
       "      <td>...</td>\n",
       "      <td>...</td>\n",
       "      <td>...</td>\n",
       "    </tr>\n",
       "    <tr>\n",
       "      <td>A702446</td>\n",
       "      <td>NaN</td>\n",
       "      <td>2015-05-14 11:56:00</td>\n",
       "      <td>Transfer</td>\n",
       "      <td>Partner</td>\n",
       "      <td>Cat</td>\n",
       "      <td>Intact Male</td>\n",
       "      <td>1 month</td>\n",
       "      <td>Domestic Shorthair Mix</td>\n",
       "      <td>Brown Tabby/White</td>\n",
       "    </tr>\n",
       "    <tr>\n",
       "      <td>A718934</td>\n",
       "      <td>NaN</td>\n",
       "      <td>2016-01-20 18:59:00</td>\n",
       "      <td>Transfer</td>\n",
       "      <td>SCRP</td>\n",
       "      <td>Cat</td>\n",
       "      <td>Spayed Female</td>\n",
       "      <td>3 months</td>\n",
       "      <td>Domestic Shorthair Mix</td>\n",
       "      <td>Brown Tabby</td>\n",
       "    </tr>\n",
       "    <tr>\n",
       "      <td>A698128</td>\n",
       "      <td>Zeus</td>\n",
       "      <td>2015-03-09 13:33:00</td>\n",
       "      <td>Adoption</td>\n",
       "      <td>NaN</td>\n",
       "      <td>Dog</td>\n",
       "      <td>Neutered Male</td>\n",
       "      <td>4 years</td>\n",
       "      <td>Old English Bulldog Mix</td>\n",
       "      <td>White/Tan</td>\n",
       "    </tr>\n",
       "    <tr>\n",
       "      <td>A677478</td>\n",
       "      <td>NaN</td>\n",
       "      <td>2014-04-27 12:22:00</td>\n",
       "      <td>Transfer</td>\n",
       "      <td>Partner</td>\n",
       "      <td>Cat</td>\n",
       "      <td>Intact Male</td>\n",
       "      <td>4 weeks</td>\n",
       "      <td>Domestic Shorthair Mix</td>\n",
       "      <td>Black</td>\n",
       "    </tr>\n",
       "    <tr>\n",
       "      <td>A706629</td>\n",
       "      <td>NaN</td>\n",
       "      <td>2015-07-02 09:00:00</td>\n",
       "      <td>Transfer</td>\n",
       "      <td>SCRP</td>\n",
       "      <td>Cat</td>\n",
       "      <td>Intact Male</td>\n",
       "      <td>1 year</td>\n",
       "      <td>Domestic Shorthair Mix</td>\n",
       "      <td>Brown Tabby/White</td>\n",
       "    </tr>\n",
       "  </tbody>\n",
       "</table>\n",
       "<p>26729 rows × 9 columns</p>\n",
       "</div>"
      ],
      "text/plain": [
       "             Name             DateTime      OutcomeType OutcomeSubtype  \\\n",
       "AnimalID                                                                 \n",
       "A671945   Hambone  2014-02-12 18:22:00  Return_to_owner            NaN   \n",
       "A656520     Emily  2013-10-13 12:44:00       Euthanasia      Suffering   \n",
       "A686464    Pearce  2015-01-31 12:28:00         Adoption         Foster   \n",
       "A683430       NaN  2014-07-11 19:09:00         Transfer        Partner   \n",
       "A667013       NaN  2013-11-15 12:52:00         Transfer        Partner   \n",
       "...           ...                  ...              ...            ...   \n",
       "A702446       NaN  2015-05-14 11:56:00         Transfer        Partner   \n",
       "A718934       NaN  2016-01-20 18:59:00         Transfer           SCRP   \n",
       "A698128      Zeus  2015-03-09 13:33:00         Adoption            NaN   \n",
       "A677478       NaN  2014-04-27 12:22:00         Transfer        Partner   \n",
       "A706629       NaN  2015-07-02 09:00:00         Transfer           SCRP   \n",
       "\n",
       "         AnimalType SexuponOutcome AgeuponOutcome  \\\n",
       "AnimalID                                            \n",
       "A671945         Dog  Neutered Male         1 year   \n",
       "A656520         Cat  Spayed Female         1 year   \n",
       "A686464         Dog  Neutered Male        2 years   \n",
       "A683430         Cat    Intact Male        3 weeks   \n",
       "A667013         Dog  Neutered Male        2 years   \n",
       "...             ...            ...            ...   \n",
       "A702446         Cat    Intact Male        1 month   \n",
       "A718934         Cat  Spayed Female       3 months   \n",
       "A698128         Dog  Neutered Male        4 years   \n",
       "A677478         Cat    Intact Male        4 weeks   \n",
       "A706629         Cat    Intact Male         1 year   \n",
       "\n",
       "                                Breed              Color  \n",
       "AnimalID                                                  \n",
       "A671945         Shetland Sheepdog Mix        Brown/White  \n",
       "A656520        Domestic Shorthair Mix        Cream Tabby  \n",
       "A686464                  Pit Bull Mix         Blue/White  \n",
       "A683430        Domestic Shorthair Mix         Blue Cream  \n",
       "A667013   Lhasa Apso/Miniature Poodle                Tan  \n",
       "...                               ...                ...  \n",
       "A702446        Domestic Shorthair Mix  Brown Tabby/White  \n",
       "A718934        Domestic Shorthair Mix        Brown Tabby  \n",
       "A698128       Old English Bulldog Mix          White/Tan  \n",
       "A677478        Domestic Shorthair Mix              Black  \n",
       "A706629        Domestic Shorthair Mix  Brown Tabby/White  \n",
       "\n",
       "[26729 rows x 9 columns]"
      ]
     },
     "execution_count": 682,
     "metadata": {},
     "output_type": "execute_result"
    }
   ],
   "source": [
    "dt"
   ]
  },
  {
   "cell_type": "markdown",
   "metadata": {},
   "source": [
    "# Inspect Feature OutcomeSubtype "
   ]
  },
  {
   "cell_type": "code",
   "execution_count": 683,
   "metadata": {
    "scrolled": false
   },
   "outputs": [
    {
     "data": {
      "text/plain": [
       "Partner                7816\n",
       "Foster                 1800\n",
       "SCRP                   1599\n",
       "Suffering              1002\n",
       "Aggressive              320\n",
       "Offsite                 165\n",
       "In Kennel               114\n",
       "Behavior                 86\n",
       "Rabies Risk              74\n",
       "Medical                  66\n",
       "In Foster                52\n",
       "Enroute                   8\n",
       "Court/Investigation       6\n",
       "At Vet                    4\n",
       "In Surgery                3\n",
       "Barn                      2\n",
       "Name: OutcomeSubtype, dtype: int64"
      ]
     },
     "execution_count": 683,
     "metadata": {},
     "output_type": "execute_result"
    }
   ],
   "source": [
    "dt.OutcomeSubtype.value_counts()"
   ]
  },
  {
   "cell_type": "code",
   "execution_count": 684,
   "metadata": {},
   "outputs": [],
   "source": [
    "out_sub = dt.OutcomeSubtype.isna().sum()"
   ]
  },
  {
   "cell_type": "code",
   "execution_count": 685,
   "metadata": {},
   "outputs": [
    {
     "data": {
      "text/plain": [
       "0.5092596056717423"
      ]
     },
     "execution_count": 685,
     "metadata": {},
     "output_type": "execute_result"
    }
   ],
   "source": [
    "out_sub/dt.shape[0]"
   ]
  },
  {
   "cell_type": "code",
   "execution_count": 686,
   "metadata": {},
   "outputs": [
    {
     "data": {
      "text/plain": [
       "'\\nMore that 50% of the data is missing regarding the subtype of the outcome.\\n\\nI will drop this column!!!!\\n\\n'"
      ]
     },
     "execution_count": 686,
     "metadata": {},
     "output_type": "execute_result"
    }
   ],
   "source": [
    "\"\"\"\n",
    "More that 50% of the data is missing regarding the subtype of the outcome.\n",
    "\n",
    "I will drop this column!!!!\n",
    "\n",
    "\"\"\""
   ]
  },
  {
   "cell_type": "code",
   "execution_count": 687,
   "metadata": {},
   "outputs": [],
   "source": [
    "## Drop outcomeSubtype\n",
    "dt.drop(columns = 'OutcomeSubtype', inplace = True)"
   ]
  },
  {
   "cell_type": "code",
   "execution_count": 688,
   "metadata": {},
   "outputs": [
    {
     "data": {
      "text/html": [
       "<div>\n",
       "<style scoped>\n",
       "    .dataframe tbody tr th:only-of-type {\n",
       "        vertical-align: middle;\n",
       "    }\n",
       "\n",
       "    .dataframe tbody tr th {\n",
       "        vertical-align: top;\n",
       "    }\n",
       "\n",
       "    .dataframe thead th {\n",
       "        text-align: right;\n",
       "    }\n",
       "</style>\n",
       "<table border=\"1\" class=\"dataframe\">\n",
       "  <thead>\n",
       "    <tr style=\"text-align: right;\">\n",
       "      <th></th>\n",
       "      <th>Name</th>\n",
       "      <th>DateTime</th>\n",
       "      <th>OutcomeType</th>\n",
       "      <th>AnimalType</th>\n",
       "      <th>SexuponOutcome</th>\n",
       "      <th>AgeuponOutcome</th>\n",
       "      <th>Breed</th>\n",
       "      <th>Color</th>\n",
       "    </tr>\n",
       "    <tr>\n",
       "      <th>AnimalID</th>\n",
       "      <th></th>\n",
       "      <th></th>\n",
       "      <th></th>\n",
       "      <th></th>\n",
       "      <th></th>\n",
       "      <th></th>\n",
       "      <th></th>\n",
       "      <th></th>\n",
       "    </tr>\n",
       "  </thead>\n",
       "  <tbody>\n",
       "    <tr>\n",
       "      <td>A671945</td>\n",
       "      <td>Hambone</td>\n",
       "      <td>2014-02-12 18:22:00</td>\n",
       "      <td>Return_to_owner</td>\n",
       "      <td>Dog</td>\n",
       "      <td>Neutered Male</td>\n",
       "      <td>1 year</td>\n",
       "      <td>Shetland Sheepdog Mix</td>\n",
       "      <td>Brown/White</td>\n",
       "    </tr>\n",
       "    <tr>\n",
       "      <td>A656520</td>\n",
       "      <td>Emily</td>\n",
       "      <td>2013-10-13 12:44:00</td>\n",
       "      <td>Euthanasia</td>\n",
       "      <td>Cat</td>\n",
       "      <td>Spayed Female</td>\n",
       "      <td>1 year</td>\n",
       "      <td>Domestic Shorthair Mix</td>\n",
       "      <td>Cream Tabby</td>\n",
       "    </tr>\n",
       "    <tr>\n",
       "      <td>A686464</td>\n",
       "      <td>Pearce</td>\n",
       "      <td>2015-01-31 12:28:00</td>\n",
       "      <td>Adoption</td>\n",
       "      <td>Dog</td>\n",
       "      <td>Neutered Male</td>\n",
       "      <td>2 years</td>\n",
       "      <td>Pit Bull Mix</td>\n",
       "      <td>Blue/White</td>\n",
       "    </tr>\n",
       "    <tr>\n",
       "      <td>A683430</td>\n",
       "      <td>NaN</td>\n",
       "      <td>2014-07-11 19:09:00</td>\n",
       "      <td>Transfer</td>\n",
       "      <td>Cat</td>\n",
       "      <td>Intact Male</td>\n",
       "      <td>3 weeks</td>\n",
       "      <td>Domestic Shorthair Mix</td>\n",
       "      <td>Blue Cream</td>\n",
       "    </tr>\n",
       "    <tr>\n",
       "      <td>A667013</td>\n",
       "      <td>NaN</td>\n",
       "      <td>2013-11-15 12:52:00</td>\n",
       "      <td>Transfer</td>\n",
       "      <td>Dog</td>\n",
       "      <td>Neutered Male</td>\n",
       "      <td>2 years</td>\n",
       "      <td>Lhasa Apso/Miniature Poodle</td>\n",
       "      <td>Tan</td>\n",
       "    </tr>\n",
       "    <tr>\n",
       "      <td>...</td>\n",
       "      <td>...</td>\n",
       "      <td>...</td>\n",
       "      <td>...</td>\n",
       "      <td>...</td>\n",
       "      <td>...</td>\n",
       "      <td>...</td>\n",
       "      <td>...</td>\n",
       "      <td>...</td>\n",
       "    </tr>\n",
       "    <tr>\n",
       "      <td>A702446</td>\n",
       "      <td>NaN</td>\n",
       "      <td>2015-05-14 11:56:00</td>\n",
       "      <td>Transfer</td>\n",
       "      <td>Cat</td>\n",
       "      <td>Intact Male</td>\n",
       "      <td>1 month</td>\n",
       "      <td>Domestic Shorthair Mix</td>\n",
       "      <td>Brown Tabby/White</td>\n",
       "    </tr>\n",
       "    <tr>\n",
       "      <td>A718934</td>\n",
       "      <td>NaN</td>\n",
       "      <td>2016-01-20 18:59:00</td>\n",
       "      <td>Transfer</td>\n",
       "      <td>Cat</td>\n",
       "      <td>Spayed Female</td>\n",
       "      <td>3 months</td>\n",
       "      <td>Domestic Shorthair Mix</td>\n",
       "      <td>Brown Tabby</td>\n",
       "    </tr>\n",
       "    <tr>\n",
       "      <td>A698128</td>\n",
       "      <td>Zeus</td>\n",
       "      <td>2015-03-09 13:33:00</td>\n",
       "      <td>Adoption</td>\n",
       "      <td>Dog</td>\n",
       "      <td>Neutered Male</td>\n",
       "      <td>4 years</td>\n",
       "      <td>Old English Bulldog Mix</td>\n",
       "      <td>White/Tan</td>\n",
       "    </tr>\n",
       "    <tr>\n",
       "      <td>A677478</td>\n",
       "      <td>NaN</td>\n",
       "      <td>2014-04-27 12:22:00</td>\n",
       "      <td>Transfer</td>\n",
       "      <td>Cat</td>\n",
       "      <td>Intact Male</td>\n",
       "      <td>4 weeks</td>\n",
       "      <td>Domestic Shorthair Mix</td>\n",
       "      <td>Black</td>\n",
       "    </tr>\n",
       "    <tr>\n",
       "      <td>A706629</td>\n",
       "      <td>NaN</td>\n",
       "      <td>2015-07-02 09:00:00</td>\n",
       "      <td>Transfer</td>\n",
       "      <td>Cat</td>\n",
       "      <td>Intact Male</td>\n",
       "      <td>1 year</td>\n",
       "      <td>Domestic Shorthair Mix</td>\n",
       "      <td>Brown Tabby/White</td>\n",
       "    </tr>\n",
       "  </tbody>\n",
       "</table>\n",
       "<p>26729 rows × 8 columns</p>\n",
       "</div>"
      ],
      "text/plain": [
       "             Name             DateTime      OutcomeType AnimalType  \\\n",
       "AnimalID                                                             \n",
       "A671945   Hambone  2014-02-12 18:22:00  Return_to_owner        Dog   \n",
       "A656520     Emily  2013-10-13 12:44:00       Euthanasia        Cat   \n",
       "A686464    Pearce  2015-01-31 12:28:00         Adoption        Dog   \n",
       "A683430       NaN  2014-07-11 19:09:00         Transfer        Cat   \n",
       "A667013       NaN  2013-11-15 12:52:00         Transfer        Dog   \n",
       "...           ...                  ...              ...        ...   \n",
       "A702446       NaN  2015-05-14 11:56:00         Transfer        Cat   \n",
       "A718934       NaN  2016-01-20 18:59:00         Transfer        Cat   \n",
       "A698128      Zeus  2015-03-09 13:33:00         Adoption        Dog   \n",
       "A677478       NaN  2014-04-27 12:22:00         Transfer        Cat   \n",
       "A706629       NaN  2015-07-02 09:00:00         Transfer        Cat   \n",
       "\n",
       "         SexuponOutcome AgeuponOutcome                        Breed  \\\n",
       "AnimalID                                                              \n",
       "A671945   Neutered Male         1 year        Shetland Sheepdog Mix   \n",
       "A656520   Spayed Female         1 year       Domestic Shorthair Mix   \n",
       "A686464   Neutered Male        2 years                 Pit Bull Mix   \n",
       "A683430     Intact Male        3 weeks       Domestic Shorthair Mix   \n",
       "A667013   Neutered Male        2 years  Lhasa Apso/Miniature Poodle   \n",
       "...                 ...            ...                          ...   \n",
       "A702446     Intact Male        1 month       Domestic Shorthair Mix   \n",
       "A718934   Spayed Female       3 months       Domestic Shorthair Mix   \n",
       "A698128   Neutered Male        4 years      Old English Bulldog Mix   \n",
       "A677478     Intact Male        4 weeks       Domestic Shorthair Mix   \n",
       "A706629     Intact Male         1 year       Domestic Shorthair Mix   \n",
       "\n",
       "                      Color  \n",
       "AnimalID                     \n",
       "A671945         Brown/White  \n",
       "A656520         Cream Tabby  \n",
       "A686464          Blue/White  \n",
       "A683430          Blue Cream  \n",
       "A667013                 Tan  \n",
       "...                     ...  \n",
       "A702446   Brown Tabby/White  \n",
       "A718934         Brown Tabby  \n",
       "A698128           White/Tan  \n",
       "A677478               Black  \n",
       "A706629   Brown Tabby/White  \n",
       "\n",
       "[26729 rows x 8 columns]"
      ]
     },
     "execution_count": 688,
     "metadata": {},
     "output_type": "execute_result"
    }
   ],
   "source": [
    "dt"
   ]
  },
  {
   "cell_type": "markdown",
   "metadata": {},
   "source": [
    "# Inspect Feature AnimalType "
   ]
  },
  {
   "cell_type": "code",
   "execution_count": 689,
   "metadata": {},
   "outputs": [
    {
     "data": {
      "text/plain": [
       "Dog    15595\n",
       "Cat    11134\n",
       "Name: AnimalType, dtype: int64"
      ]
     },
     "execution_count": 689,
     "metadata": {},
     "output_type": "execute_result"
    }
   ],
   "source": [
    "dt.AnimalType.value_counts()"
   ]
  },
  {
   "cell_type": "code",
   "execution_count": 731,
   "metadata": {},
   "outputs": [
    {
     "data": {
      "image/png": "[encoded data removed]",
      "text/plain": [
       "<Figure size 432x288 with 1 Axes>"
      ]
     },
     "metadata": {
      "needs_background": "light"
     },
     "output_type": "display_data"
    }
   ],
   "source": [
    "plt.bar(dt['AnimalType'].value_counts().keys(), dt['AnimalType'].value_counts() , color = 'pink')\n",
    "\n",
    "plt.show()"
   ]
  },
  {
   "cell_type": "markdown",
   "metadata": {},
   "source": [
    "# Inspect Feature Breed -- IMPORTANT FEATURE -- handle with care "
   ]
  },
  {
   "cell_type": "code",
   "execution_count": 691,
   "metadata": {
    "scrolled": true
   },
   "outputs": [
    {
     "data": {
      "text/plain": [
       "Domestic Shorthair Mix                        8810\n",
       "Pit Bull Mix                                  1906\n",
       "Chihuahua Shorthair Mix                       1766\n",
       "Labrador Retriever Mix                        1363\n",
       "Domestic Medium Hair Mix                       839\n",
       "                                              ... \n",
       "Boston Terrier/Beagle                            1\n",
       "Rat Terrier/Jack Russell Terrier                 1\n",
       "Boxer/Boston Terrier                             1\n",
       "English Pointer                                  1\n",
       "Parson Russell Terrier/Chihuahua Shorthair       1\n",
       "Name: Breed, Length: 1380, dtype: int64"
      ]
     },
     "execution_count": 691,
     "metadata": {},
     "output_type": "execute_result"
    }
   ],
   "source": [
    "dt.Breed.value_counts()"
   ]
  },
  {
   "cell_type": "code",
   "execution_count": 692,
   "metadata": {},
   "outputs": [],
   "source": [
    "## Animals Breed that only appears 1 time  --- see if I should use?\n",
    "#0r\n",
    "## Animals Breed that only appears less than 30 times  --- see if I should use?\n",
    "\n",
    "\n",
    "\n"
   ]
  },
  {
   "cell_type": "code",
   "execution_count": 693,
   "metadata": {},
   "outputs": [
    {
     "data": {
      "text/plain": [
       "Domestic Shorthair Mix                        False\n",
       "Pit Bull Mix                                  False\n",
       "Chihuahua Shorthair Mix                       False\n",
       "Labrador Retriever Mix                        False\n",
       "Domestic Medium Hair Mix                      False\n",
       "                                              ...  \n",
       "Boston Terrier/Beagle                          True\n",
       "Rat Terrier/Jack Russell Terrier               True\n",
       "Boxer/Boston Terrier                           True\n",
       "English Pointer                                True\n",
       "Parson Russell Terrier/Chihuahua Shorthair     True\n",
       "Name: Breed, Length: 1380, dtype: bool"
      ]
     },
     "execution_count": 693,
     "metadata": {},
     "output_type": "execute_result"
    }
   ],
   "source": [
    "dt.Breed.value_counts() == 1  ## want to know what the unique here "
   ]
  },
  {
   "cell_type": "code",
   "execution_count": 694,
   "metadata": {},
   "outputs": [],
   "source": [
    "\n",
    "low_breed = dt['Breed'].value_counts()[dt['Breed'].value_counts() == 1]\n",
    "\n",
    "\n",
    "#low_breed = dt['Breed'].value_counts()[dt['Breed'].value_counts() < 30]\n",
    "\n",
    "\n"
   ]
  },
  {
   "cell_type": "code",
   "execution_count": 695,
   "metadata": {
    "scrolled": false
   },
   "outputs": [
    {
     "data": {
      "text/plain": [
       "0.025403120206517266"
      ]
     },
     "execution_count": 695,
     "metadata": {},
     "output_type": "execute_result"
    }
   ],
   "source": [
    "### The percentage of animals which theire breed is unique\n",
    "\n",
    "len(low_breed)/dt.shape[0]"
   ]
  },
  {
   "cell_type": "code",
   "execution_count": 696,
   "metadata": {
    "scrolled": false
   },
   "outputs": [
    {
     "data": {
      "text/plain": [
       "(1380,)"
      ]
     },
     "execution_count": 696,
     "metadata": {},
     "output_type": "execute_result"
    }
   ],
   "source": [
    "dt.Breed.value_counts().shape"
   ]
  },
  {
   "cell_type": "code",
   "execution_count": 697,
   "metadata": {},
   "outputs": [
    {
     "data": {
      "text/plain": [
       "Index(['Bulldog', 'Border Terrier/Miniature Poodle',\n",
       "       'Dachshund Wirehair/Miniature Schnauzer', 'American Foxhound',\n",
       "       'Whippet/Whippet', 'Dachshund Wirehair/Rat Terrier',\n",
       "       'Great Dane/German Shepherd', 'Irish Terrier/Labrador Retriever',\n",
       "       'Pembroke Welsh Corgi/Australian Shepherd',\n",
       "       'Chow Chow/Cardigan Welsh Corgi',\n",
       "       ...\n",
       "       'Pomeranian/Border Terrier', 'Miniature Poodle/English Cocker Spaniel',\n",
       "       'Miniature Schnauzer/Shih Tzu', 'Collie Rough/Chinese Sharpei',\n",
       "       'Cardigan Welsh Corgi/Cairn Terrier', 'Boston Terrier/Beagle',\n",
       "       'Rat Terrier/Jack Russell Terrier', 'Boxer/Boston Terrier',\n",
       "       'English Pointer', 'Parson Russell Terrier/Chihuahua Shorthair'],\n",
       "      dtype='object', length=679)"
      ]
     },
     "execution_count": 697,
     "metadata": {},
     "output_type": "execute_result"
    }
   ],
   "source": [
    "low_breed.index\n"
   ]
  },
  {
   "cell_type": "code",
   "execution_count": 698,
   "metadata": {},
   "outputs": [
    {
     "data": {
      "text/html": [
       "<div>\n",
       "<style scoped>\n",
       "    .dataframe tbody tr th:only-of-type {\n",
       "        vertical-align: middle;\n",
       "    }\n",
       "\n",
       "    .dataframe tbody tr th {\n",
       "        vertical-align: top;\n",
       "    }\n",
       "\n",
       "    .dataframe thead th {\n",
       "        text-align: right;\n",
       "    }\n",
       "</style>\n",
       "<table border=\"1\" class=\"dataframe\">\n",
       "  <thead>\n",
       "    <tr style=\"text-align: right;\">\n",
       "      <th></th>\n",
       "      <th>Name</th>\n",
       "      <th>DateTime</th>\n",
       "      <th>OutcomeType</th>\n",
       "      <th>AnimalType</th>\n",
       "      <th>SexuponOutcome</th>\n",
       "      <th>AgeuponOutcome</th>\n",
       "      <th>Breed</th>\n",
       "      <th>Color</th>\n",
       "    </tr>\n",
       "    <tr>\n",
       "      <th>AnimalID</th>\n",
       "      <th></th>\n",
       "      <th></th>\n",
       "      <th></th>\n",
       "      <th></th>\n",
       "      <th></th>\n",
       "      <th></th>\n",
       "      <th></th>\n",
       "      <th></th>\n",
       "    </tr>\n",
       "  </thead>\n",
       "  <tbody>\n",
       "    <tr>\n",
       "      <td>A715261</td>\n",
       "      <td>Darcy</td>\n",
       "      <td>2015-11-15 14:06:00</td>\n",
       "      <td>Adoption</td>\n",
       "      <td>Dog</td>\n",
       "      <td>Spayed Female</td>\n",
       "      <td>9 years</td>\n",
       "      <td>Beagle/Treeing Walker Coonhound</td>\n",
       "      <td>White/Brown</td>\n",
       "    </tr>\n",
       "    <tr>\n",
       "      <td>A677577</td>\n",
       "      <td>Roxie</td>\n",
       "      <td>2014-05-01 16:12:00</td>\n",
       "      <td>Adoption</td>\n",
       "      <td>Dog</td>\n",
       "      <td>Spayed Female</td>\n",
       "      <td>10 months</td>\n",
       "      <td>Queensland Heeler/Shetland Sheepdog</td>\n",
       "      <td>Red Tick/Black</td>\n",
       "    </tr>\n",
       "    <tr>\n",
       "      <td>A701029</td>\n",
       "      <td>Bode</td>\n",
       "      <td>2015-05-01 11:04:00</td>\n",
       "      <td>Return_to_owner</td>\n",
       "      <td>Dog</td>\n",
       "      <td>Neutered Male</td>\n",
       "      <td>2 years</td>\n",
       "      <td>Chesa Bay Retr</td>\n",
       "      <td>Brown</td>\n",
       "    </tr>\n",
       "    <tr>\n",
       "      <td>A668122</td>\n",
       "      <td>NaN</td>\n",
       "      <td>2013-12-01 17:58:00</td>\n",
       "      <td>Adoption</td>\n",
       "      <td>Dog</td>\n",
       "      <td>Spayed Female</td>\n",
       "      <td>7 years</td>\n",
       "      <td>English Pointer</td>\n",
       "      <td>Liver/White</td>\n",
       "    </tr>\n",
       "    <tr>\n",
       "      <td>A672467</td>\n",
       "      <td>Apollo</td>\n",
       "      <td>2014-02-14 18:59:00</td>\n",
       "      <td>Adoption</td>\n",
       "      <td>Dog</td>\n",
       "      <td>Neutered Male</td>\n",
       "      <td>9 months</td>\n",
       "      <td>Cardigan Welsh Corgi/Cardigan Welsh Corgi</td>\n",
       "      <td>Fawn/White</td>\n",
       "    </tr>\n",
       "    <tr>\n",
       "      <td>...</td>\n",
       "      <td>...</td>\n",
       "      <td>...</td>\n",
       "      <td>...</td>\n",
       "      <td>...</td>\n",
       "      <td>...</td>\n",
       "      <td>...</td>\n",
       "      <td>...</td>\n",
       "      <td>...</td>\n",
       "    </tr>\n",
       "    <tr>\n",
       "      <td>A678850</td>\n",
       "      <td>Daphne</td>\n",
       "      <td>2014-05-19 19:20:00</td>\n",
       "      <td>Adoption</td>\n",
       "      <td>Dog</td>\n",
       "      <td>Spayed Female</td>\n",
       "      <td>5 months</td>\n",
       "      <td>Boxer/Neapolitan Mastiff</td>\n",
       "      <td>Tan/White</td>\n",
       "    </tr>\n",
       "    <tr>\n",
       "      <td>A696051</td>\n",
       "      <td>Grizzly</td>\n",
       "      <td>2015-02-02 12:07:00</td>\n",
       "      <td>Adoption</td>\n",
       "      <td>Dog</td>\n",
       "      <td>Neutered Male</td>\n",
       "      <td>3 years</td>\n",
       "      <td>French Bulldog/English Bulldog</td>\n",
       "      <td>Tan/White</td>\n",
       "    </tr>\n",
       "    <tr>\n",
       "      <td>A670660</td>\n",
       "      <td>Hank</td>\n",
       "      <td>2014-07-18 11:39:00</td>\n",
       "      <td>Adoption</td>\n",
       "      <td>Dog</td>\n",
       "      <td>Neutered Male</td>\n",
       "      <td>3 years</td>\n",
       "      <td>Vizsla/Boxer</td>\n",
       "      <td>Brown</td>\n",
       "    </tr>\n",
       "    <tr>\n",
       "      <td>A680948</td>\n",
       "      <td>NaN</td>\n",
       "      <td>2014-06-16 11:22:00</td>\n",
       "      <td>Adoption</td>\n",
       "      <td>Dog</td>\n",
       "      <td>Spayed Female</td>\n",
       "      <td>1 year</td>\n",
       "      <td>German Shepherd/Australian Kelpie</td>\n",
       "      <td>Brown/White</td>\n",
       "    </tr>\n",
       "    <tr>\n",
       "      <td>A667787</td>\n",
       "      <td>NaN</td>\n",
       "      <td>2013-11-30 18:33:00</td>\n",
       "      <td>Transfer</td>\n",
       "      <td>Dog</td>\n",
       "      <td>Spayed Female</td>\n",
       "      <td>4 months</td>\n",
       "      <td>Boxer/German Shepherd</td>\n",
       "      <td>Brown</td>\n",
       "    </tr>\n",
       "  </tbody>\n",
       "</table>\n",
       "<p>679 rows × 8 columns</p>\n",
       "</div>"
      ],
      "text/plain": [
       "             Name             DateTime      OutcomeType AnimalType  \\\n",
       "AnimalID                                                             \n",
       "A715261     Darcy  2015-11-15 14:06:00         Adoption        Dog   \n",
       "A677577     Roxie  2014-05-01 16:12:00         Adoption        Dog   \n",
       "A701029      Bode  2015-05-01 11:04:00  Return_to_owner        Dog   \n",
       "A668122       NaN  2013-12-01 17:58:00         Adoption        Dog   \n",
       "A672467    Apollo  2014-02-14 18:59:00         Adoption        Dog   \n",
       "...           ...                  ...              ...        ...   \n",
       "A678850    Daphne  2014-05-19 19:20:00         Adoption        Dog   \n",
       "A696051   Grizzly  2015-02-02 12:07:00         Adoption        Dog   \n",
       "A670660      Hank  2014-07-18 11:39:00         Adoption        Dog   \n",
       "A680948       NaN  2014-06-16 11:22:00         Adoption        Dog   \n",
       "A667787       NaN  2013-11-30 18:33:00         Transfer        Dog   \n",
       "\n",
       "         SexuponOutcome AgeuponOutcome  \\\n",
       "AnimalID                                 \n",
       "A715261   Spayed Female        9 years   \n",
       "A677577   Spayed Female      10 months   \n",
       "A701029   Neutered Male        2 years   \n",
       "A668122   Spayed Female        7 years   \n",
       "A672467   Neutered Male       9 months   \n",
       "...                 ...            ...   \n",
       "A678850   Spayed Female       5 months   \n",
       "A696051   Neutered Male        3 years   \n",
       "A670660   Neutered Male        3 years   \n",
       "A680948   Spayed Female         1 year   \n",
       "A667787   Spayed Female       4 months   \n",
       "\n",
       "                                              Breed           Color  \n",
       "AnimalID                                                             \n",
       "A715261             Beagle/Treeing Walker Coonhound     White/Brown  \n",
       "A677577         Queensland Heeler/Shetland Sheepdog  Red Tick/Black  \n",
       "A701029                              Chesa Bay Retr           Brown  \n",
       "A668122                             English Pointer     Liver/White  \n",
       "A672467   Cardigan Welsh Corgi/Cardigan Welsh Corgi      Fawn/White  \n",
       "...                                             ...             ...  \n",
       "A678850                    Boxer/Neapolitan Mastiff       Tan/White  \n",
       "A696051              French Bulldog/English Bulldog       Tan/White  \n",
       "A670660                                Vizsla/Boxer           Brown  \n",
       "A680948           German Shepherd/Australian Kelpie     Brown/White  \n",
       "A667787                       Boxer/German Shepherd           Brown  \n",
       "\n",
       "[679 rows x 8 columns]"
      ]
     },
     "execution_count": 698,
     "metadata": {},
     "output_type": "execute_result"
    }
   ],
   "source": [
    "# decide wether to use this or not -- Filter\n",
    "\n",
    "dt.loc[dt['Breed'].isin(low_breed.index)]"
   ]
  },
  {
   "cell_type": "code",
   "execution_count": 699,
   "metadata": {},
   "outputs": [
    {
     "data": {
      "text/plain": [
       "'\\nProblably will do an hot encoding of this one \\n\\n'"
      ]
     },
     "execution_count": 699,
     "metadata": {},
     "output_type": "execute_result"
    }
   ],
   "source": [
    "\"\"\"\n",
    "Problably will do an hot encoding of this one \n",
    "\n",
    "\"\"\""
   ]
  },
  {
   "cell_type": "markdown",
   "metadata": {},
   "source": [
    "# Inspect Feature DATETIME -- use in analysis. not in prediction (probably)"
   ]
  },
  {
   "cell_type": "code",
   "execution_count": 700,
   "metadata": {},
   "outputs": [],
   "source": [
    "# Convert DateTime column object to dattime format\n",
    "\n",
    "dt['DateTime'] = pd.to_datetime(dt['DateTime'])\n"
   ]
  },
  {
   "cell_type": "code",
   "execution_count": 701,
   "metadata": {
    "scrolled": false
   },
   "outputs": [
    {
     "data": {
      "text/plain": [
       "(Timestamp('2013-10-01 09:31:00'), Timestamp('2016-02-21 19:17:00'))"
      ]
     },
     "execution_count": 701,
     "metadata": {},
     "output_type": "execute_result"
    }
   ],
   "source": [
    "## discover the time-range: \n",
    "\n",
    "dt['DateTime'].min(), dt['DateTime'].max()"
   ]
  },
  {
   "cell_type": "code",
   "execution_count": 702,
   "metadata": {},
   "outputs": [
    {
     "data": {
      "text/plain": [
       "' \\n\\nThe time goes from 1 of October of 2013 to 21st of february of 2016.\\nSo we are missing 9 months in 2013 and 9 months on 2016.\\n\\n'"
      ]
     },
     "execution_count": 702,
     "metadata": {},
     "output_type": "execute_result"
    }
   ],
   "source": [
    "\"\"\" \n",
    "\n",
    "The time goes from 1 of October of 2013 to 21st of february of 2016.\n",
    "So we are missing 9 months in 2013 and 9 months on 2016.\n",
    "\n",
    "\"\"\""
   ]
  },
  {
   "cell_type": "code",
   "execution_count": 703,
   "metadata": {},
   "outputs": [],
   "source": [
    "dt['month'] = dt['DateTime'].dt.month\n",
    "dt['year'] = dt['DateTime'].dt.year\n"
   ]
  },
  {
   "cell_type": "code",
   "execution_count": 704,
   "metadata": {
    "scrolled": true
   },
   "outputs": [
    {
     "data": {
      "text/html": [
       "<div>\n",
       "<style scoped>\n",
       "    .dataframe tbody tr th:only-of-type {\n",
       "        vertical-align: middle;\n",
       "    }\n",
       "\n",
       "    .dataframe tbody tr th {\n",
       "        vertical-align: top;\n",
       "    }\n",
       "\n",
       "    .dataframe thead th {\n",
       "        text-align: right;\n",
       "    }\n",
       "</style>\n",
       "<table border=\"1\" class=\"dataframe\">\n",
       "  <thead>\n",
       "    <tr style=\"text-align: right;\">\n",
       "      <th></th>\n",
       "      <th>OutcomeType</th>\n",
       "    </tr>\n",
       "    <tr>\n",
       "      <th>DateTime</th>\n",
       "      <th></th>\n",
       "    </tr>\n",
       "  </thead>\n",
       "  <tbody>\n",
       "    <tr>\n",
       "      <td>2013</td>\n",
       "      <td>1128</td>\n",
       "    </tr>\n",
       "    <tr>\n",
       "      <td>2014</td>\n",
       "      <td>4358</td>\n",
       "    </tr>\n",
       "    <tr>\n",
       "      <td>2015</td>\n",
       "      <td>4620</td>\n",
       "    </tr>\n",
       "    <tr>\n",
       "      <td>2016</td>\n",
       "      <td>663</td>\n",
       "    </tr>\n",
       "  </tbody>\n",
       "</table>\n",
       "</div>"
      ],
      "text/plain": [
       "          OutcomeType\n",
       "DateTime             \n",
       "2013             1128\n",
       "2014             4358\n",
       "2015             4620\n",
       "2016              663"
      ]
     },
     "execution_count": 704,
     "metadata": {},
     "output_type": "execute_result"
    }
   ],
   "source": [
    "## Group table by year \n",
    "\n",
    "adopt = dt.loc[dt['OutcomeType']== 'Adoption']\n",
    "\n",
    "adopt = adopt[['DateTime','OutcomeType']]\n",
    "\n",
    "piv = adopt.pivot_table(values = ['OutcomeType'], index = adopt['DateTime'].dt.year , aggfunc = ({'OutcomeType':'count'}))\n",
    "piv"
   ]
  },
  {
   "cell_type": "code",
   "execution_count": 705,
   "metadata": {},
   "outputs": [
    {
     "data": {
      "image/png": "[encoded data removed]",
      "text/plain": [
       "<Figure size 432x288 with 1 Axes>"
      ]
     },
     "metadata": {
      "needs_background": "light"
     },
     "output_type": "display_data"
    }
   ],
   "source": [
    "# Plot adoption by year \n",
    "\n",
    "plt.bar(piv.index, piv['OutcomeType'], color = 'black')\n",
    "plt.plot(piv.index, piv['OutcomeType'], color = 'pink')\n",
    "plt.xticks(list(piv.index))\n",
    "plt.title('Adoption by Year')\n",
    "plt.show()"
   ]
  },
  {
   "cell_type": "code",
   "execution_count": 706,
   "metadata": {},
   "outputs": [
    {
     "data": {
      "image/png": "[encoded data removed]",
      "text/plain": [
       "<Figure size 1440x720 with 5 Axes>"
      ]
     },
     "metadata": {
      "needs_background": "light"
     },
     "output_type": "display_data"
    }
   ],
   "source": [
    "## do Plotting for outcome at once \n",
    "\n",
    "\n",
    "fig, axs = plt.subplots(1, 5, figsize=(20, 10))\n",
    "\n",
    "#custom_xlim = (0, 100)\n",
    "custom_ylim = (0, 5000)\n",
    "\n",
    "\n",
    "# set the same scale for all the plots \n",
    "\n",
    "plt.setp(axs, ylim=custom_ylim)\n",
    "\n",
    "\n",
    "for i, out in enumerate(dt['OutcomeType'].unique()):\n",
    "    outcome = dt[['DateTime','OutcomeType']]\n",
    "    outcome = outcome.loc[outcome['OutcomeType']== out]\n",
    "    piv = outcome.pivot_table(values = ['OutcomeType'], index = outcome['DateTime'].dt.year , aggfunc = ({'OutcomeType':'count'}))\n",
    "\n",
    "    axs[i].bar(piv.index, piv['OutcomeType'], color = 'black')\n",
    "    axs[i].plot(piv.index, piv['OutcomeType'], color = 'pink')\n",
    "    axs[i].title.set_text(out)\n"
   ]
  },
  {
   "cell_type": "markdown",
   "metadata": {},
   "source": [
    "# Inspect feature SexuponOutcome"
   ]
  },
  {
   "cell_type": "code",
   "execution_count": 707,
   "metadata": {},
   "outputs": [
    {
     "data": {
      "text/html": [
       "<div>\n",
       "<style scoped>\n",
       "    .dataframe tbody tr th:only-of-type {\n",
       "        vertical-align: middle;\n",
       "    }\n",
       "\n",
       "    .dataframe tbody tr th {\n",
       "        vertical-align: top;\n",
       "    }\n",
       "\n",
       "    .dataframe thead th {\n",
       "        text-align: right;\n",
       "    }\n",
       "</style>\n",
       "<table border=\"1\" class=\"dataframe\">\n",
       "  <thead>\n",
       "    <tr style=\"text-align: right;\">\n",
       "      <th></th>\n",
       "      <th>Name</th>\n",
       "      <th>DateTime</th>\n",
       "      <th>OutcomeType</th>\n",
       "      <th>AnimalType</th>\n",
       "      <th>SexuponOutcome</th>\n",
       "      <th>AgeuponOutcome</th>\n",
       "      <th>Breed</th>\n",
       "      <th>Color</th>\n",
       "      <th>month</th>\n",
       "      <th>year</th>\n",
       "    </tr>\n",
       "    <tr>\n",
       "      <th>AnimalID</th>\n",
       "      <th></th>\n",
       "      <th></th>\n",
       "      <th></th>\n",
       "      <th></th>\n",
       "      <th></th>\n",
       "      <th></th>\n",
       "      <th></th>\n",
       "      <th></th>\n",
       "      <th></th>\n",
       "      <th></th>\n",
       "    </tr>\n",
       "  </thead>\n",
       "  <tbody>\n",
       "    <tr>\n",
       "      <td>A667395</td>\n",
       "      <td>Diego</td>\n",
       "      <td>2013-11-27 16:11:00</td>\n",
       "      <td>Return_to_owner</td>\n",
       "      <td>Dog</td>\n",
       "      <td>NaN</td>\n",
       "      <td>7 years</td>\n",
       "      <td>Dachshund</td>\n",
       "      <td>Brown Merle</td>\n",
       "      <td>11</td>\n",
       "      <td>2013</td>\n",
       "    </tr>\n",
       "  </tbody>\n",
       "</table>\n",
       "</div>"
      ],
      "text/plain": [
       "           Name            DateTime      OutcomeType AnimalType  \\\n",
       "AnimalID                                                          \n",
       "A667395   Diego 2013-11-27 16:11:00  Return_to_owner        Dog   \n",
       "\n",
       "         SexuponOutcome AgeuponOutcome      Breed        Color  month  year  \n",
       "AnimalID                                                                     \n",
       "A667395             NaN        7 years  Dachshund  Brown Merle     11  2013  "
      ]
     },
     "execution_count": 707,
     "metadata": {},
     "output_type": "execute_result"
    }
   ],
   "source": [
    "dt.loc[dt['SexuponOutcome'].isna()]"
   ]
  },
  {
   "cell_type": "code",
   "execution_count": 708,
   "metadata": {},
   "outputs": [],
   "source": [
    "dt.drop(index = 'A667395', inplace = True)"
   ]
  },
  {
   "cell_type": "code",
   "execution_count": 709,
   "metadata": {},
   "outputs": [
    {
     "data": {
      "text/plain": [
       "'\\n\\nDrop the row that has no SexuponOutcome.\\n\\n'"
      ]
     },
     "execution_count": 709,
     "metadata": {},
     "output_type": "execute_result"
    }
   ],
   "source": [
    "\"\"\"\n",
    "\n",
    "Drop the row that has no SexuponOutcome.\n",
    "\n",
    "\"\"\""
   ]
  },
  {
   "cell_type": "code",
   "execution_count": 710,
   "metadata": {},
   "outputs": [],
   "source": [
    "## Reset the index because I removed a row. ## Not needed anymore \n",
    "\n",
    "#dt = dt.reset_index(drop=True)\n"
   ]
  },
  {
   "cell_type": "code",
   "execution_count": 711,
   "metadata": {
    "scrolled": true
   },
   "outputs": [
    {
     "data": {
      "text/plain": [
       "Neutered Male    9779\n",
       "Spayed Female    8820\n",
       "Intact Male      3525\n",
       "Intact Female    3511\n",
       "Unknown          1093\n",
       "Name: SexuponOutcome, dtype: int64"
      ]
     },
     "execution_count": 711,
     "metadata": {},
     "output_type": "execute_result"
    }
   ],
   "source": [
    "dt['SexuponOutcome'].value_counts()"
   ]
  },
  {
   "cell_type": "code",
   "execution_count": 712,
   "metadata": {},
   "outputs": [],
   "source": [
    "#sex_list = list(dt['SexuponOutcome'].unique())\n",
    "\n",
    "#for sex in sex_list:\n",
    "    #austin_fixed[event] = austin_fixed['Events'].str.contains(event).astype(int)"
   ]
  },
  {
   "cell_type": "code",
   "execution_count": 713,
   "metadata": {},
   "outputs": [],
   "source": [
    "# Creat a Gener Column based on Sex Upon Outcome\n",
    "dt['Genere'] = ['Male' if 'Male' in gen else 'Female' if 'Female' in gen else 'Unknown' for gen in dt['SexuponOutcome']]\n",
    "\n",
    "# Create a Steril or Normal Column based on Sex Upon Outcome\n",
    "\n",
    "dt['Spayed/Neutered'] = [1 if 'Spayed' in gen else 1 if 'Neutered' in gen else 0 for gen in dt['SexuponOutcome']]\n",
    "\n"
   ]
  },
  {
   "cell_type": "code",
   "execution_count": 714,
   "metadata": {},
   "outputs": [
    {
     "data": {
      "text/html": [
       "<div>\n",
       "<style scoped>\n",
       "    .dataframe tbody tr th:only-of-type {\n",
       "        vertical-align: middle;\n",
       "    }\n",
       "\n",
       "    .dataframe tbody tr th {\n",
       "        vertical-align: top;\n",
       "    }\n",
       "\n",
       "    .dataframe thead th {\n",
       "        text-align: right;\n",
       "    }\n",
       "</style>\n",
       "<table border=\"1\" class=\"dataframe\">\n",
       "  <thead>\n",
       "    <tr style=\"text-align: right;\">\n",
       "      <th></th>\n",
       "      <th>Name</th>\n",
       "      <th>DateTime</th>\n",
       "      <th>OutcomeType</th>\n",
       "      <th>AnimalType</th>\n",
       "      <th>SexuponOutcome</th>\n",
       "      <th>AgeuponOutcome</th>\n",
       "      <th>Breed</th>\n",
       "      <th>Color</th>\n",
       "      <th>month</th>\n",
       "      <th>year</th>\n",
       "      <th>Genere</th>\n",
       "      <th>Spayed/Neutered</th>\n",
       "    </tr>\n",
       "    <tr>\n",
       "      <th>AnimalID</th>\n",
       "      <th></th>\n",
       "      <th></th>\n",
       "      <th></th>\n",
       "      <th></th>\n",
       "      <th></th>\n",
       "      <th></th>\n",
       "      <th></th>\n",
       "      <th></th>\n",
       "      <th></th>\n",
       "      <th></th>\n",
       "      <th></th>\n",
       "      <th></th>\n",
       "    </tr>\n",
       "  </thead>\n",
       "  <tbody>\n",
       "    <tr>\n",
       "      <td>A671945</td>\n",
       "      <td>Hambone</td>\n",
       "      <td>2014-02-12 18:22:00</td>\n",
       "      <td>Return_to_owner</td>\n",
       "      <td>Dog</td>\n",
       "      <td>Neutered Male</td>\n",
       "      <td>1 year</td>\n",
       "      <td>Shetland Sheepdog Mix</td>\n",
       "      <td>Brown/White</td>\n",
       "      <td>2</td>\n",
       "      <td>2014</td>\n",
       "      <td>Male</td>\n",
       "      <td>1</td>\n",
       "    </tr>\n",
       "    <tr>\n",
       "      <td>A656520</td>\n",
       "      <td>Emily</td>\n",
       "      <td>2013-10-13 12:44:00</td>\n",
       "      <td>Euthanasia</td>\n",
       "      <td>Cat</td>\n",
       "      <td>Spayed Female</td>\n",
       "      <td>1 year</td>\n",
       "      <td>Domestic Shorthair Mix</td>\n",
       "      <td>Cream Tabby</td>\n",
       "      <td>10</td>\n",
       "      <td>2013</td>\n",
       "      <td>Female</td>\n",
       "      <td>1</td>\n",
       "    </tr>\n",
       "    <tr>\n",
       "      <td>A686464</td>\n",
       "      <td>Pearce</td>\n",
       "      <td>2015-01-31 12:28:00</td>\n",
       "      <td>Adoption</td>\n",
       "      <td>Dog</td>\n",
       "      <td>Neutered Male</td>\n",
       "      <td>2 years</td>\n",
       "      <td>Pit Bull Mix</td>\n",
       "      <td>Blue/White</td>\n",
       "      <td>1</td>\n",
       "      <td>2015</td>\n",
       "      <td>Male</td>\n",
       "      <td>1</td>\n",
       "    </tr>\n",
       "    <tr>\n",
       "      <td>A683430</td>\n",
       "      <td>NaN</td>\n",
       "      <td>2014-07-11 19:09:00</td>\n",
       "      <td>Transfer</td>\n",
       "      <td>Cat</td>\n",
       "      <td>Intact Male</td>\n",
       "      <td>3 weeks</td>\n",
       "      <td>Domestic Shorthair Mix</td>\n",
       "      <td>Blue Cream</td>\n",
       "      <td>7</td>\n",
       "      <td>2014</td>\n",
       "      <td>Male</td>\n",
       "      <td>0</td>\n",
       "    </tr>\n",
       "    <tr>\n",
       "      <td>A667013</td>\n",
       "      <td>NaN</td>\n",
       "      <td>2013-11-15 12:52:00</td>\n",
       "      <td>Transfer</td>\n",
       "      <td>Dog</td>\n",
       "      <td>Neutered Male</td>\n",
       "      <td>2 years</td>\n",
       "      <td>Lhasa Apso/Miniature Poodle</td>\n",
       "      <td>Tan</td>\n",
       "      <td>11</td>\n",
       "      <td>2013</td>\n",
       "      <td>Male</td>\n",
       "      <td>1</td>\n",
       "    </tr>\n",
       "  </tbody>\n",
       "</table>\n",
       "</div>"
      ],
      "text/plain": [
       "             Name            DateTime      OutcomeType AnimalType  \\\n",
       "AnimalID                                                            \n",
       "A671945   Hambone 2014-02-12 18:22:00  Return_to_owner        Dog   \n",
       "A656520     Emily 2013-10-13 12:44:00       Euthanasia        Cat   \n",
       "A686464    Pearce 2015-01-31 12:28:00         Adoption        Dog   \n",
       "A683430       NaN 2014-07-11 19:09:00         Transfer        Cat   \n",
       "A667013       NaN 2013-11-15 12:52:00         Transfer        Dog   \n",
       "\n",
       "         SexuponOutcome AgeuponOutcome                        Breed  \\\n",
       "AnimalID                                                              \n",
       "A671945   Neutered Male         1 year        Shetland Sheepdog Mix   \n",
       "A656520   Spayed Female         1 year       Domestic Shorthair Mix   \n",
       "A686464   Neutered Male        2 years                 Pit Bull Mix   \n",
       "A683430     Intact Male        3 weeks       Domestic Shorthair Mix   \n",
       "A667013   Neutered Male        2 years  Lhasa Apso/Miniature Poodle   \n",
       "\n",
       "                Color  month  year  Genere  Spayed/Neutered  \n",
       "AnimalID                                                     \n",
       "A671945   Brown/White      2  2014    Male                1  \n",
       "A656520   Cream Tabby     10  2013  Female                1  \n",
       "A686464    Blue/White      1  2015    Male                1  \n",
       "A683430    Blue Cream      7  2014    Male                0  \n",
       "A667013           Tan     11  2013    Male                1  "
      ]
     },
     "execution_count": 714,
     "metadata": {},
     "output_type": "execute_result"
    }
   ],
   "source": [
    "dt.head()"
   ]
  },
  {
   "cell_type": "markdown",
   "metadata": {},
   "source": [
    "# Inspect feature AgeuponOutcome"
   ]
  },
  {
   "cell_type": "code",
   "execution_count": 715,
   "metadata": {
    "scrolled": true
   },
   "outputs": [
    {
     "data": {
      "text/plain": [
       "18"
      ]
     },
     "execution_count": 715,
     "metadata": {},
     "output_type": "execute_result"
    }
   ],
   "source": [
    "dt['AgeuponOutcome'].isna().sum()"
   ]
  },
  {
   "cell_type": "code",
   "execution_count": 716,
   "metadata": {},
   "outputs": [
    {
     "data": {
      "text/html": [
       "<div>\n",
       "<style scoped>\n",
       "    .dataframe tbody tr th:only-of-type {\n",
       "        vertical-align: middle;\n",
       "    }\n",
       "\n",
       "    .dataframe tbody tr th {\n",
       "        vertical-align: top;\n",
       "    }\n",
       "\n",
       "    .dataframe thead th {\n",
       "        text-align: right;\n",
       "    }\n",
       "</style>\n",
       "<table border=\"1\" class=\"dataframe\">\n",
       "  <thead>\n",
       "    <tr style=\"text-align: right;\">\n",
       "      <th></th>\n",
       "      <th>Name</th>\n",
       "      <th>DateTime</th>\n",
       "      <th>OutcomeType</th>\n",
       "      <th>AnimalType</th>\n",
       "      <th>SexuponOutcome</th>\n",
       "      <th>AgeuponOutcome</th>\n",
       "      <th>Breed</th>\n",
       "      <th>Color</th>\n",
       "      <th>month</th>\n",
       "      <th>year</th>\n",
       "      <th>Genere</th>\n",
       "      <th>Spayed/Neutered</th>\n",
       "    </tr>\n",
       "    <tr>\n",
       "      <th>AnimalID</th>\n",
       "      <th></th>\n",
       "      <th></th>\n",
       "      <th></th>\n",
       "      <th></th>\n",
       "      <th></th>\n",
       "      <th></th>\n",
       "      <th></th>\n",
       "      <th></th>\n",
       "      <th></th>\n",
       "      <th></th>\n",
       "      <th></th>\n",
       "      <th></th>\n",
       "    </tr>\n",
       "  </thead>\n",
       "  <tbody>\n",
       "    <tr>\n",
       "      <td>A720674</td>\n",
       "      <td>NaN</td>\n",
       "      <td>2016-02-16 10:17:00</td>\n",
       "      <td>Transfer</td>\n",
       "      <td>Cat</td>\n",
       "      <td>Intact Male</td>\n",
       "      <td>NaN</td>\n",
       "      <td>Domestic Shorthair Mix</td>\n",
       "      <td>Blue Tabby/White</td>\n",
       "      <td>2</td>\n",
       "      <td>2016</td>\n",
       "      <td>Male</td>\n",
       "      <td>0</td>\n",
       "    </tr>\n",
       "    <tr>\n",
       "      <td>A720973</td>\n",
       "      <td>NaN</td>\n",
       "      <td>2016-02-18 19:07:00</td>\n",
       "      <td>Transfer</td>\n",
       "      <td>Cat</td>\n",
       "      <td>Unknown</td>\n",
       "      <td>NaN</td>\n",
       "      <td>Domestic Shorthair Mix</td>\n",
       "      <td>Gray Tabby</td>\n",
       "      <td>2</td>\n",
       "      <td>2016</td>\n",
       "      <td>Unknown</td>\n",
       "      <td>0</td>\n",
       "    </tr>\n",
       "    <tr>\n",
       "      <td>A720820</td>\n",
       "      <td>NaN</td>\n",
       "      <td>2016-02-16 18:55:00</td>\n",
       "      <td>Transfer</td>\n",
       "      <td>Cat</td>\n",
       "      <td>Intact Female</td>\n",
       "      <td>NaN</td>\n",
       "      <td>Domestic Shorthair Mix</td>\n",
       "      <td>Brown Tabby</td>\n",
       "      <td>2</td>\n",
       "      <td>2016</td>\n",
       "      <td>Female</td>\n",
       "      <td>0</td>\n",
       "    </tr>\n",
       "    <tr>\n",
       "      <td>A721076</td>\n",
       "      <td>NaN</td>\n",
       "      <td>2016-02-20 16:37:00</td>\n",
       "      <td>Euthanasia</td>\n",
       "      <td>Dog</td>\n",
       "      <td>Intact Male</td>\n",
       "      <td>NaN</td>\n",
       "      <td>Toy Poodle Mix</td>\n",
       "      <td>White</td>\n",
       "      <td>2</td>\n",
       "      <td>2016</td>\n",
       "      <td>Male</td>\n",
       "      <td>0</td>\n",
       "    </tr>\n",
       "    <tr>\n",
       "      <td>A720422</td>\n",
       "      <td>NaN</td>\n",
       "      <td>2016-02-09 19:43:00</td>\n",
       "      <td>Transfer</td>\n",
       "      <td>Cat</td>\n",
       "      <td>Intact Female</td>\n",
       "      <td>NaN</td>\n",
       "      <td>Domestic Shorthair Mix</td>\n",
       "      <td>Brown Tabby</td>\n",
       "      <td>2</td>\n",
       "      <td>2016</td>\n",
       "      <td>Female</td>\n",
       "      <td>0</td>\n",
       "    </tr>\n",
       "    <tr>\n",
       "      <td>A720697</td>\n",
       "      <td>NaN</td>\n",
       "      <td>2016-02-16 10:17:00</td>\n",
       "      <td>Transfer</td>\n",
       "      <td>Cat</td>\n",
       "      <td>Spayed Female</td>\n",
       "      <td>NaN</td>\n",
       "      <td>Domestic Shorthair Mix</td>\n",
       "      <td>Black</td>\n",
       "      <td>2</td>\n",
       "      <td>2016</td>\n",
       "      <td>Female</td>\n",
       "      <td>1</td>\n",
       "    </tr>\n",
       "    <tr>\n",
       "      <td>A720640</td>\n",
       "      <td>NaN</td>\n",
       "      <td>2016-02-16 10:17:00</td>\n",
       "      <td>Transfer</td>\n",
       "      <td>Cat</td>\n",
       "      <td>Unknown</td>\n",
       "      <td>NaN</td>\n",
       "      <td>Domestic Shorthair Mix</td>\n",
       "      <td>Black Tabby/White</td>\n",
       "      <td>2</td>\n",
       "      <td>2016</td>\n",
       "      <td>Unknown</td>\n",
       "      <td>0</td>\n",
       "    </tr>\n",
       "    <tr>\n",
       "      <td>A720636</td>\n",
       "      <td>NaN</td>\n",
       "      <td>2016-02-16 10:17:00</td>\n",
       "      <td>Transfer</td>\n",
       "      <td>Cat</td>\n",
       "      <td>Unknown</td>\n",
       "      <td>NaN</td>\n",
       "      <td>Domestic Shorthair Mix</td>\n",
       "      <td>Black</td>\n",
       "      <td>2</td>\n",
       "      <td>2016</td>\n",
       "      <td>Unknown</td>\n",
       "      <td>0</td>\n",
       "    </tr>\n",
       "    <tr>\n",
       "      <td>A720701</td>\n",
       "      <td>NaN</td>\n",
       "      <td>2016-02-16 10:16:00</td>\n",
       "      <td>Transfer</td>\n",
       "      <td>Cat</td>\n",
       "      <td>Intact Male</td>\n",
       "      <td>NaN</td>\n",
       "      <td>Domestic Shorthair Mix</td>\n",
       "      <td>Blue Tabby/White</td>\n",
       "      <td>2</td>\n",
       "      <td>2016</td>\n",
       "      <td>Male</td>\n",
       "      <td>0</td>\n",
       "    </tr>\n",
       "    <tr>\n",
       "      <td>A720782</td>\n",
       "      <td>NaN</td>\n",
       "      <td>2016-02-16 18:55:00</td>\n",
       "      <td>Transfer</td>\n",
       "      <td>Cat</td>\n",
       "      <td>Intact Female</td>\n",
       "      <td>NaN</td>\n",
       "      <td>Domestic Shorthair Mix</td>\n",
       "      <td>Torbie</td>\n",
       "      <td>2</td>\n",
       "      <td>2016</td>\n",
       "      <td>Female</td>\n",
       "      <td>0</td>\n",
       "    </tr>\n",
       "    <tr>\n",
       "      <td>A720780</td>\n",
       "      <td>NaN</td>\n",
       "      <td>2016-02-16 18:54:00</td>\n",
       "      <td>Transfer</td>\n",
       "      <td>Cat</td>\n",
       "      <td>Intact Female</td>\n",
       "      <td>NaN</td>\n",
       "      <td>Domestic Shorthair Mix</td>\n",
       "      <td>Brown Tabby</td>\n",
       "      <td>2</td>\n",
       "      <td>2016</td>\n",
       "      <td>Female</td>\n",
       "      <td>0</td>\n",
       "    </tr>\n",
       "    <tr>\n",
       "      <td>A720653</td>\n",
       "      <td>NaN</td>\n",
       "      <td>2016-02-16 10:16:00</td>\n",
       "      <td>Transfer</td>\n",
       "      <td>Cat</td>\n",
       "      <td>Intact Female</td>\n",
       "      <td>NaN</td>\n",
       "      <td>Domestic Shorthair Mix</td>\n",
       "      <td>Tortie</td>\n",
       "      <td>2</td>\n",
       "      <td>2016</td>\n",
       "      <td>Female</td>\n",
       "      <td>0</td>\n",
       "    </tr>\n",
       "    <tr>\n",
       "      <td>A720652</td>\n",
       "      <td>NaN</td>\n",
       "      <td>2016-02-16 10:16:00</td>\n",
       "      <td>Transfer</td>\n",
       "      <td>Cat</td>\n",
       "      <td>Intact Male</td>\n",
       "      <td>NaN</td>\n",
       "      <td>Domestic Shorthair Mix</td>\n",
       "      <td>Blue</td>\n",
       "      <td>2</td>\n",
       "      <td>2016</td>\n",
       "      <td>Male</td>\n",
       "      <td>0</td>\n",
       "    </tr>\n",
       "    <tr>\n",
       "      <td>A720534</td>\n",
       "      <td>NaN</td>\n",
       "      <td>2016-02-11 19:26:00</td>\n",
       "      <td>Transfer</td>\n",
       "      <td>Cat</td>\n",
       "      <td>Intact Female</td>\n",
       "      <td>NaN</td>\n",
       "      <td>Domestic Shorthair Mix</td>\n",
       "      <td>Brown Tabby/White</td>\n",
       "      <td>2</td>\n",
       "      <td>2016</td>\n",
       "      <td>Female</td>\n",
       "      <td>0</td>\n",
       "    </tr>\n",
       "    <tr>\n",
       "      <td>A720781</td>\n",
       "      <td>NaN</td>\n",
       "      <td>2016-02-16 18:55:00</td>\n",
       "      <td>Transfer</td>\n",
       "      <td>Cat</td>\n",
       "      <td>Unknown</td>\n",
       "      <td>NaN</td>\n",
       "      <td>Domestic Shorthair Mix</td>\n",
       "      <td>Brown Tabby</td>\n",
       "      <td>2</td>\n",
       "      <td>2016</td>\n",
       "      <td>Unknown</td>\n",
       "      <td>0</td>\n",
       "    </tr>\n",
       "    <tr>\n",
       "      <td>A720908</td>\n",
       "      <td>NaN</td>\n",
       "      <td>2016-02-17 15:07:00</td>\n",
       "      <td>Euthanasia</td>\n",
       "      <td>Cat</td>\n",
       "      <td>Intact Male</td>\n",
       "      <td>NaN</td>\n",
       "      <td>Domestic Longhair Mix</td>\n",
       "      <td>Cream Tabby</td>\n",
       "      <td>2</td>\n",
       "      <td>2016</td>\n",
       "      <td>Male</td>\n",
       "      <td>0</td>\n",
       "    </tr>\n",
       "    <tr>\n",
       "      <td>A721113</td>\n",
       "      <td>NaN</td>\n",
       "      <td>2016-02-21 18:22:00</td>\n",
       "      <td>Transfer</td>\n",
       "      <td>Cat</td>\n",
       "      <td>Intact Female</td>\n",
       "      <td>NaN</td>\n",
       "      <td>Domestic Shorthair Mix</td>\n",
       "      <td>Black</td>\n",
       "      <td>2</td>\n",
       "      <td>2016</td>\n",
       "      <td>Female</td>\n",
       "      <td>0</td>\n",
       "    </tr>\n",
       "    <tr>\n",
       "      <td>A720502</td>\n",
       "      <td>NaN</td>\n",
       "      <td>2016-02-10 18:49:00</td>\n",
       "      <td>Transfer</td>\n",
       "      <td>Cat</td>\n",
       "      <td>Intact Male</td>\n",
       "      <td>NaN</td>\n",
       "      <td>Domestic Shorthair Mix</td>\n",
       "      <td>Black</td>\n",
       "      <td>2</td>\n",
       "      <td>2016</td>\n",
       "      <td>Male</td>\n",
       "      <td>0</td>\n",
       "    </tr>\n",
       "  </tbody>\n",
       "</table>\n",
       "</div>"
      ],
      "text/plain": [
       "         Name            DateTime OutcomeType AnimalType SexuponOutcome  \\\n",
       "AnimalID                                                                  \n",
       "A720674   NaN 2016-02-16 10:17:00    Transfer        Cat    Intact Male   \n",
       "A720973   NaN 2016-02-18 19:07:00    Transfer        Cat        Unknown   \n",
       "A720820   NaN 2016-02-16 18:55:00    Transfer        Cat  Intact Female   \n",
       "A721076   NaN 2016-02-20 16:37:00  Euthanasia        Dog    Intact Male   \n",
       "A720422   NaN 2016-02-09 19:43:00    Transfer        Cat  Intact Female   \n",
       "A720697   NaN 2016-02-16 10:17:00    Transfer        Cat  Spayed Female   \n",
       "A720640   NaN 2016-02-16 10:17:00    Transfer        Cat        Unknown   \n",
       "A720636   NaN 2016-02-16 10:17:00    Transfer        Cat        Unknown   \n",
       "A720701   NaN 2016-02-16 10:16:00    Transfer        Cat    Intact Male   \n",
       "A720782   NaN 2016-02-16 18:55:00    Transfer        Cat  Intact Female   \n",
       "A720780   NaN 2016-02-16 18:54:00    Transfer        Cat  Intact Female   \n",
       "A720653   NaN 2016-02-16 10:16:00    Transfer        Cat  Intact Female   \n",
       "A720652   NaN 2016-02-16 10:16:00    Transfer        Cat    Intact Male   \n",
       "A720534   NaN 2016-02-11 19:26:00    Transfer        Cat  Intact Female   \n",
       "A720781   NaN 2016-02-16 18:55:00    Transfer        Cat        Unknown   \n",
       "A720908   NaN 2016-02-17 15:07:00  Euthanasia        Cat    Intact Male   \n",
       "A721113   NaN 2016-02-21 18:22:00    Transfer        Cat  Intact Female   \n",
       "A720502   NaN 2016-02-10 18:49:00    Transfer        Cat    Intact Male   \n",
       "\n",
       "         AgeuponOutcome                   Breed              Color  month  \\\n",
       "AnimalID                                                                    \n",
       "A720674             NaN  Domestic Shorthair Mix   Blue Tabby/White      2   \n",
       "A720973             NaN  Domestic Shorthair Mix         Gray Tabby      2   \n",
       "A720820             NaN  Domestic Shorthair Mix        Brown Tabby      2   \n",
       "A721076             NaN          Toy Poodle Mix              White      2   \n",
       "A720422             NaN  Domestic Shorthair Mix        Brown Tabby      2   \n",
       "A720697             NaN  Domestic Shorthair Mix              Black      2   \n",
       "A720640             NaN  Domestic Shorthair Mix  Black Tabby/White      2   \n",
       "A720636             NaN  Domestic Shorthair Mix              Black      2   \n",
       "A720701             NaN  Domestic Shorthair Mix   Blue Tabby/White      2   \n",
       "A720782             NaN  Domestic Shorthair Mix             Torbie      2   \n",
       "A720780             NaN  Domestic Shorthair Mix        Brown Tabby      2   \n",
       "A720653             NaN  Domestic Shorthair Mix             Tortie      2   \n",
       "A720652             NaN  Domestic Shorthair Mix               Blue      2   \n",
       "A720534             NaN  Domestic Shorthair Mix  Brown Tabby/White      2   \n",
       "A720781             NaN  Domestic Shorthair Mix        Brown Tabby      2   \n",
       "A720908             NaN   Domestic Longhair Mix        Cream Tabby      2   \n",
       "A721113             NaN  Domestic Shorthair Mix              Black      2   \n",
       "A720502             NaN  Domestic Shorthair Mix              Black      2   \n",
       "\n",
       "          year   Genere  Spayed/Neutered  \n",
       "AnimalID                                  \n",
       "A720674   2016     Male                0  \n",
       "A720973   2016  Unknown                0  \n",
       "A720820   2016   Female                0  \n",
       "A721076   2016     Male                0  \n",
       "A720422   2016   Female                0  \n",
       "A720697   2016   Female                1  \n",
       "A720640   2016  Unknown                0  \n",
       "A720636   2016  Unknown                0  \n",
       "A720701   2016     Male                0  \n",
       "A720782   2016   Female                0  \n",
       "A720780   2016   Female                0  \n",
       "A720653   2016   Female                0  \n",
       "A720652   2016     Male                0  \n",
       "A720534   2016   Female                0  \n",
       "A720781   2016  Unknown                0  \n",
       "A720908   2016     Male                0  \n",
       "A721113   2016   Female                0  \n",
       "A720502   2016     Male                0  "
      ]
     },
     "execution_count": 716,
     "metadata": {},
     "output_type": "execute_result"
    }
   ],
   "source": [
    "dt.loc[dt['AgeuponOutcome'].isna()]"
   ]
  },
  {
   "cell_type": "code",
   "execution_count": 717,
   "metadata": {},
   "outputs": [],
   "source": [
    "## Drop the 18 rows that have NaN in AgeuponOutcome\n",
    "\n",
    "dt.drop(index = dt.loc[dt['AgeuponOutcome'].isna()].index , inplace = True)"
   ]
  },
  {
   "cell_type": "code",
   "execution_count": 718,
   "metadata": {},
   "outputs": [],
   "source": [
    "# Reset the index again ## NOT NEEDED ANYMORE \n",
    "\n",
    "#dt.reset_index(drop = True)"
   ]
  },
  {
   "cell_type": "code",
   "execution_count": 719,
   "metadata": {
    "scrolled": true
   },
   "outputs": [
    {
     "data": {
      "text/plain": [
       "array(['1 year', '2 years', '3 weeks', '1 month', '5 months', '4 years',\n",
       "       '3 months', '2 weeks', '2 months', '10 months', '6 months',\n",
       "       '5 years', '7 years', '3 years', '4 months', '12 years', '9 years',\n",
       "       '6 years', '1 weeks', '11 years', '4 weeks', '7 months', '8 years',\n",
       "       '11 months', '4 days', '9 months', '8 months', '15 years',\n",
       "       '10 years', '1 week', '0 years', '14 years', '3 days', '6 days',\n",
       "       '5 days', '5 weeks', '2 days', '16 years', '1 day', '13 years',\n",
       "       '17 years', '18 years', '19 years', '20 years'], dtype=object)"
      ]
     },
     "execution_count": 719,
     "metadata": {},
     "output_type": "execute_result"
    }
   ],
   "source": [
    "## Convert age upon outcome into the same unity  : decided it to be month \n",
    "\n",
    "dt['AgeuponOutcome'].unique()"
   ]
  },
  {
   "cell_type": "code",
   "execution_count": 720,
   "metadata": {},
   "outputs": [],
   "source": [
    "## FUNCTION 1#\n",
    "\n",
    "def convert_to_month(s):\n",
    "    \"\"\"\n",
    "    Convert a string value to numeric. Also make the unity of the string as months.\n",
    "    \n",
    "    Args:\n",
    "        s: The AgeuponOutcome in string format.\n",
    "\n",
    "    Returns:\n",
    "        The correct value in Months.\n",
    "    \"\"\"\n",
    "    \n",
    "    if 'year' in s or 'years' in s:\n",
    "        \n",
    "        return float(re.sub('\\D+', '', s))* 12\n",
    "    \n",
    "    elif 'month' in s or 'months' in s:\n",
    "        \n",
    "        return float(re.sub('\\D+', '', s))\n",
    "    \n",
    "    elif 'week' in s or 'weeks' in s:\n",
    "        \n",
    "        return float(re.sub('\\D+', '', s)) * 0.23\n",
    "    else:\n",
    "        \n",
    "        return float(re.sub('\\D+', '', s)) * 0.03"
   ]
  },
  {
   "cell_type": "code",
   "execution_count": 721,
   "metadata": {},
   "outputs": [],
   "source": [
    "dt['AgeuponOutcome'] = dt['AgeuponOutcome'].apply(convert_to_month)"
   ]
  },
  {
   "cell_type": "code",
   "execution_count": 722,
   "metadata": {},
   "outputs": [],
   "source": [
    "dt.rename(columns = {'AgeuponOutcome': 'OutcomeAgeInMonths'}, inplace = True)"
   ]
  },
  {
   "cell_type": "code",
   "execution_count": 723,
   "metadata": {},
   "outputs": [
    {
     "data": {
      "text/html": [
       "<div>\n",
       "<style scoped>\n",
       "    .dataframe tbody tr th:only-of-type {\n",
       "        vertical-align: middle;\n",
       "    }\n",
       "\n",
       "    .dataframe tbody tr th {\n",
       "        vertical-align: top;\n",
       "    }\n",
       "\n",
       "    .dataframe thead th {\n",
       "        text-align: right;\n",
       "    }\n",
       "</style>\n",
       "<table border=\"1\" class=\"dataframe\">\n",
       "  <thead>\n",
       "    <tr style=\"text-align: right;\">\n",
       "      <th></th>\n",
       "      <th>Name</th>\n",
       "      <th>DateTime</th>\n",
       "      <th>OutcomeType</th>\n",
       "      <th>AnimalType</th>\n",
       "      <th>SexuponOutcome</th>\n",
       "      <th>OutcomeAgeInMonths</th>\n",
       "      <th>Breed</th>\n",
       "      <th>Color</th>\n",
       "      <th>month</th>\n",
       "      <th>year</th>\n",
       "      <th>Genere</th>\n",
       "      <th>Spayed/Neutered</th>\n",
       "    </tr>\n",
       "    <tr>\n",
       "      <th>AnimalID</th>\n",
       "      <th></th>\n",
       "      <th></th>\n",
       "      <th></th>\n",
       "      <th></th>\n",
       "      <th></th>\n",
       "      <th></th>\n",
       "      <th></th>\n",
       "      <th></th>\n",
       "      <th></th>\n",
       "      <th></th>\n",
       "      <th></th>\n",
       "      <th></th>\n",
       "    </tr>\n",
       "  </thead>\n",
       "  <tbody>\n",
       "    <tr>\n",
       "      <td>A671945</td>\n",
       "      <td>Hambone</td>\n",
       "      <td>2014-02-12 18:22:00</td>\n",
       "      <td>Return_to_owner</td>\n",
       "      <td>Dog</td>\n",
       "      <td>Neutered Male</td>\n",
       "      <td>12.00</td>\n",
       "      <td>Shetland Sheepdog Mix</td>\n",
       "      <td>Brown/White</td>\n",
       "      <td>2</td>\n",
       "      <td>2014</td>\n",
       "      <td>Male</td>\n",
       "      <td>1</td>\n",
       "    </tr>\n",
       "    <tr>\n",
       "      <td>A656520</td>\n",
       "      <td>Emily</td>\n",
       "      <td>2013-10-13 12:44:00</td>\n",
       "      <td>Euthanasia</td>\n",
       "      <td>Cat</td>\n",
       "      <td>Spayed Female</td>\n",
       "      <td>12.00</td>\n",
       "      <td>Domestic Shorthair Mix</td>\n",
       "      <td>Cream Tabby</td>\n",
       "      <td>10</td>\n",
       "      <td>2013</td>\n",
       "      <td>Female</td>\n",
       "      <td>1</td>\n",
       "    </tr>\n",
       "    <tr>\n",
       "      <td>A686464</td>\n",
       "      <td>Pearce</td>\n",
       "      <td>2015-01-31 12:28:00</td>\n",
       "      <td>Adoption</td>\n",
       "      <td>Dog</td>\n",
       "      <td>Neutered Male</td>\n",
       "      <td>24.00</td>\n",
       "      <td>Pit Bull Mix</td>\n",
       "      <td>Blue/White</td>\n",
       "      <td>1</td>\n",
       "      <td>2015</td>\n",
       "      <td>Male</td>\n",
       "      <td>1</td>\n",
       "    </tr>\n",
       "    <tr>\n",
       "      <td>A683430</td>\n",
       "      <td>NaN</td>\n",
       "      <td>2014-07-11 19:09:00</td>\n",
       "      <td>Transfer</td>\n",
       "      <td>Cat</td>\n",
       "      <td>Intact Male</td>\n",
       "      <td>0.69</td>\n",
       "      <td>Domestic Shorthair Mix</td>\n",
       "      <td>Blue Cream</td>\n",
       "      <td>7</td>\n",
       "      <td>2014</td>\n",
       "      <td>Male</td>\n",
       "      <td>0</td>\n",
       "    </tr>\n",
       "    <tr>\n",
       "      <td>A667013</td>\n",
       "      <td>NaN</td>\n",
       "      <td>2013-11-15 12:52:00</td>\n",
       "      <td>Transfer</td>\n",
       "      <td>Dog</td>\n",
       "      <td>Neutered Male</td>\n",
       "      <td>24.00</td>\n",
       "      <td>Lhasa Apso/Miniature Poodle</td>\n",
       "      <td>Tan</td>\n",
       "      <td>11</td>\n",
       "      <td>2013</td>\n",
       "      <td>Male</td>\n",
       "      <td>1</td>\n",
       "    </tr>\n",
       "  </tbody>\n",
       "</table>\n",
       "</div>"
      ],
      "text/plain": [
       "             Name            DateTime      OutcomeType AnimalType  \\\n",
       "AnimalID                                                            \n",
       "A671945   Hambone 2014-02-12 18:22:00  Return_to_owner        Dog   \n",
       "A656520     Emily 2013-10-13 12:44:00       Euthanasia        Cat   \n",
       "A686464    Pearce 2015-01-31 12:28:00         Adoption        Dog   \n",
       "A683430       NaN 2014-07-11 19:09:00         Transfer        Cat   \n",
       "A667013       NaN 2013-11-15 12:52:00         Transfer        Dog   \n",
       "\n",
       "         SexuponOutcome  OutcomeAgeInMonths                        Breed  \\\n",
       "AnimalID                                                                   \n",
       "A671945   Neutered Male               12.00        Shetland Sheepdog Mix   \n",
       "A656520   Spayed Female               12.00       Domestic Shorthair Mix   \n",
       "A686464   Neutered Male               24.00                 Pit Bull Mix   \n",
       "A683430     Intact Male                0.69       Domestic Shorthair Mix   \n",
       "A667013   Neutered Male               24.00  Lhasa Apso/Miniature Poodle   \n",
       "\n",
       "                Color  month  year  Genere  Spayed/Neutered  \n",
       "AnimalID                                                     \n",
       "A671945   Brown/White      2  2014    Male                1  \n",
       "A656520   Cream Tabby     10  2013  Female                1  \n",
       "A686464    Blue/White      1  2015    Male                1  \n",
       "A683430    Blue Cream      7  2014    Male                0  \n",
       "A667013           Tan     11  2013    Male                1  "
      ]
     },
     "execution_count": 723,
     "metadata": {},
     "output_type": "execute_result"
    }
   ],
   "source": [
    "dt.head()"
   ]
  },
  {
   "cell_type": "markdown",
   "metadata": {},
   "source": [
    "# Animal Name column --- after anlayzis drop it\n"
   ]
  },
  {
   "cell_type": "code",
   "execution_count": 724,
   "metadata": {},
   "outputs": [
    {
     "data": {
      "text/html": [
       "<div>\n",
       "<style scoped>\n",
       "    .dataframe tbody tr th:only-of-type {\n",
       "        vertical-align: middle;\n",
       "    }\n",
       "\n",
       "    .dataframe tbody tr th {\n",
       "        vertical-align: top;\n",
       "    }\n",
       "\n",
       "    .dataframe thead th {\n",
       "        text-align: right;\n",
       "    }\n",
       "</style>\n",
       "<table border=\"1\" class=\"dataframe\">\n",
       "  <thead>\n",
       "    <tr style=\"text-align: right;\">\n",
       "      <th></th>\n",
       "      <th>Frequency</th>\n",
       "    </tr>\n",
       "  </thead>\n",
       "  <tbody>\n",
       "    <tr>\n",
       "      <td>Max</td>\n",
       "      <td>136</td>\n",
       "    </tr>\n",
       "    <tr>\n",
       "      <td>Bella</td>\n",
       "      <td>135</td>\n",
       "    </tr>\n",
       "    <tr>\n",
       "      <td>Charlie</td>\n",
       "      <td>107</td>\n",
       "    </tr>\n",
       "    <tr>\n",
       "      <td>Daisy</td>\n",
       "      <td>106</td>\n",
       "    </tr>\n",
       "    <tr>\n",
       "      <td>Lucy</td>\n",
       "      <td>94</td>\n",
       "    </tr>\n",
       "    <tr>\n",
       "      <td>Buddy</td>\n",
       "      <td>87</td>\n",
       "    </tr>\n",
       "    <tr>\n",
       "      <td>Princess</td>\n",
       "      <td>86</td>\n",
       "    </tr>\n",
       "    <tr>\n",
       "      <td>Rocky</td>\n",
       "      <td>85</td>\n",
       "    </tr>\n",
       "    <tr>\n",
       "      <td>Luna</td>\n",
       "      <td>68</td>\n",
       "    </tr>\n",
       "    <tr>\n",
       "      <td>Jack</td>\n",
       "      <td>66</td>\n",
       "    </tr>\n",
       "  </tbody>\n",
       "</table>\n",
       "</div>"
      ],
      "text/plain": [
       "          Frequency\n",
       "Max             136\n",
       "Bella           135\n",
       "Charlie         107\n",
       "Daisy           106\n",
       "Lucy             94\n",
       "Buddy            87\n",
       "Princess         86\n",
       "Rocky            85\n",
       "Luna             68\n",
       "Jack             66"
      ]
     },
     "execution_count": 724,
     "metadata": {},
     "output_type": "execute_result"
    }
   ],
   "source": [
    "a_name = pd.DataFrame(dt['Name'].value_counts())\n",
    "a_name.rename(columns = {'Name': 'Frequency'}, inplace = True)\n",
    "\n",
    "a_name.loc[a_name['Frequency'] > 50]\n",
    "\n",
    "a_name.head(10)\n",
    "\n"
   ]
  },
  {
   "cell_type": "code",
   "execution_count": 725,
   "metadata": {},
   "outputs": [
    {
     "data": {
      "text/plain": [
       "Index(['Max', 'Bella', 'Charlie', 'Daisy', 'Lucy', 'Buddy', 'Princess',\n",
       "       'Rocky', 'Luna', 'Jack'],\n",
       "      dtype='object')"
      ]
     },
     "execution_count": 725,
     "metadata": {},
     "output_type": "execute_result"
    }
   ],
   "source": [
    "a_name.head(10).index"
   ]
  },
  {
   "cell_type": "code",
   "execution_count": 726,
   "metadata": {},
   "outputs": [
    {
     "data": {
      "image/png": "[encoded data removed]",
      "text/plain": [
       "<Figure size 720x720 with 1 Axes>"
      ]
     },
     "metadata": {
      "needs_background": "light"
     },
     "output_type": "display_data"
    }
   ],
   "source": [
    "plt.figure(figsize = (10,10))\n",
    "\n",
    "plt.bar(x = a_name.head(10).index, height = a_name.head(10)['Frequency'], color = '#ffcccc')\n",
    "\n",
    "plt.ylabel('Freqeuncy', fontsize = 'x-large', alpha = 100)\n",
    "plt.xlabel('Names', fontsize = 'x-large', alpha = 100) # alpha is transparency \n",
    "plt.title('Top 10 Names', fontsize = 'xx-large', position = (0.5,1.033))\n",
    "plt.show()"
   ]
  },
  {
   "cell_type": "code",
   "execution_count": 727,
   "metadata": {},
   "outputs": [
    {
     "data": {
      "text/plain": [
       "'\\nThe most frequent names are the ones displayed on the graph above\\n'"
      ]
     },
     "execution_count": 727,
     "metadata": {},
     "output_type": "execute_result"
    }
   ],
   "source": [
    "\"\"\"\n",
    "The most frequent names are the ones displayed on the graph above\n",
    "\"\"\"\n"
   ]
  },
  {
   "cell_type": "code",
   "execution_count": 728,
   "metadata": {},
   "outputs": [],
   "source": [
    "# Drop the Name column\n",
    "\n",
    "dt.drop(columns = 'Name', inplace = True)"
   ]
  },
  {
   "cell_type": "code",
   "execution_count": 729,
   "metadata": {},
   "outputs": [
    {
     "data": {
      "text/plain": [
       "'\\nNot gonna be relevant in the prediction\\n\\n'"
      ]
     },
     "execution_count": 729,
     "metadata": {},
     "output_type": "execute_result"
    }
   ],
   "source": [
    "\"\"\"\n",
    "Not gonna be relevant in the prediction\n",
    "\n",
    "\"\"\""
   ]
  },
  {
   "cell_type": "code",
   "execution_count": 730,
   "metadata": {},
   "outputs": [
    {
     "data": {
      "text/plain": [
       "DateTime              datetime64[ns]\n",
       "OutcomeType                   object\n",
       "AnimalType                    object\n",
       "SexuponOutcome                object\n",
       "OutcomeAgeInMonths           float64\n",
       "Breed                         object\n",
       "Color                         object\n",
       "month                          int64\n",
       "year                           int64\n",
       "Genere                        object\n",
       "Spayed/Neutered                int64\n",
       "dtype: object"
      ]
     },
     "execution_count": 730,
     "metadata": {},
     "output_type": "execute_result"
    }
   ],
   "source": [
    "dt.dtypes"
   ]
  },
  {
   "cell_type": "markdown",
   "metadata": {},
   "source": [
    "# Color feature "
   ]
  },
  {
   "cell_type": "code",
   "execution_count": null,
   "metadata": {},
   "outputs": [],
   "source": []
  }
 ],
 "metadata": {
  "kernelspec": {
   "display_name": "Python 3",
   "language": "python",
   "name": "python3"
  },
  "language_info": {
   "codemirror_mode": {
    "name": "ipython",
    "version": 3
   },
   "file_extension": ".py",
   "mimetype": "text/x-python",
   "name": "python",
   "nbconvert_exporter": "python",
   "pygments_lexer": "ipython3",
   "version": "3.7.4"
  }
 },
 "nbformat": 4,
 "nbformat_minor": 2
}
